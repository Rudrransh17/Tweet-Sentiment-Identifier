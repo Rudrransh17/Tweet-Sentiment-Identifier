{
 "cells": [
  {
   "cell_type": "code",
   "execution_count": 1,
   "id": "31c26656",
   "metadata": {},
   "outputs": [
    {
     "name": "stderr",
     "output_type": "stream",
     "text": [
      "[nltk_data] Downloading package punkt to\n",
      "[nltk_data]     C:\\Users\\Rudrransh\\AppData\\Roaming\\nltk_data...\n",
      "[nltk_data]   Package punkt is already up-to-date!\n",
      "[nltk_data] Downloading package stopwords to\n",
      "[nltk_data]     C:\\Users\\Rudrransh\\AppData\\Roaming\\nltk_data...\n",
      "[nltk_data]   Package stopwords is already up-to-date!\n",
      "[nltk_data] Downloading package wordnet to\n",
      "[nltk_data]     C:\\Users\\Rudrransh\\AppData\\Roaming\\nltk_data...\n",
      "[nltk_data]   Package wordnet is already up-to-date!\n"
     ]
    }
   ],
   "source": [
    "import pandas as pd\n",
    "import re\n",
    "import nltk\n",
    "nltk.download('punkt')\n",
    "nltk.download('stopwords')\n",
    "nltk.download('wordnet')\n",
    "from nltk.corpus import stopwords\n",
    "from nltk.stem import PorterStemmer\n",
    "from nltk.tokenize import word_tokenize"
   ]
  },
  {
   "cell_type": "code",
   "execution_count": 2,
   "id": "52fa4fab",
   "metadata": {},
   "outputs": [],
   "source": [
    "# Read the original CSV file\n",
    "df = pd.read_csv('Tweet_Data\\original_tweet_data.csv', encoding='latin-1', header = None)"
   ]
  },
  {
   "cell_type": "code",
   "execution_count": 3,
   "id": "8d67fa53",
   "metadata": {},
   "outputs": [
    {
     "data": {
      "text/plain": [
       "<bound method NDFrame.head of          0           1                             2         3   \n",
       "0        0  1467810369  Mon Apr 06 22:19:45 PDT 2009  NO_QUERY  \\\n",
       "1        0  1467810672  Mon Apr 06 22:19:49 PDT 2009  NO_QUERY   \n",
       "2        0  1467810917  Mon Apr 06 22:19:53 PDT 2009  NO_QUERY   \n",
       "3        0  1467811184  Mon Apr 06 22:19:57 PDT 2009  NO_QUERY   \n",
       "4        0  1467811193  Mon Apr 06 22:19:57 PDT 2009  NO_QUERY   \n",
       "...     ..         ...                           ...       ...   \n",
       "1599995  4  2193601966  Tue Jun 16 08:40:49 PDT 2009  NO_QUERY   \n",
       "1599996  4  2193601969  Tue Jun 16 08:40:49 PDT 2009  NO_QUERY   \n",
       "1599997  4  2193601991  Tue Jun 16 08:40:49 PDT 2009  NO_QUERY   \n",
       "1599998  4  2193602064  Tue Jun 16 08:40:49 PDT 2009  NO_QUERY   \n",
       "1599999  4  2193602129  Tue Jun 16 08:40:50 PDT 2009  NO_QUERY   \n",
       "\n",
       "                       4                                                  5  \n",
       "0        _TheSpecialOne_  @switchfoot http://twitpic.com/2y1zl - Awww, t...  \n",
       "1          scotthamilton  is upset that he can't update his Facebook by ...  \n",
       "2               mattycus  @Kenichan I dived many times for the ball. Man...  \n",
       "3                ElleCTF    my whole body feels itchy and like its on fire   \n",
       "4                 Karoli  @nationwideclass no, it's not behaving at all....  \n",
       "...                  ...                                                ...  \n",
       "1599995  AmandaMarie1028  Just woke up. Having no school is the best fee...  \n",
       "1599996      TheWDBoards  TheWDB.com - Very cool to hear old Walt interv...  \n",
       "1599997           bpbabe  Are you ready for your MoJo Makeover? Ask me f...  \n",
       "1599998     tinydiamondz  Happy 38th Birthday to my boo of alll time!!! ...  \n",
       "1599999   RyanTrevMorris  happy #charitytuesday @theNSPCC @SparksCharity...  \n",
       "\n",
       "[1600000 rows x 6 columns]>"
      ]
     },
     "execution_count": 3,
     "metadata": {},
     "output_type": "execute_result"
    }
   ],
   "source": [
    "df.head"
   ]
  },
  {
   "cell_type": "code",
   "execution_count": 4,
   "id": "19e9086e",
   "metadata": {},
   "outputs": [
    {
     "data": {
      "text/plain": [
       "Index([0, 1, 2, 3, 4, 5], dtype='int64')"
      ]
     },
     "execution_count": 4,
     "metadata": {},
     "output_type": "execute_result"
    }
   ],
   "source": [
    "df.columns"
   ]
  },
  {
   "cell_type": "code",
   "execution_count": 5,
   "id": "9f72f6f9",
   "metadata": {},
   "outputs": [],
   "source": [
    "# Perform preprocessing steps\n",
    "stopwords = set(stopwords.words('english'))\n",
    "stemmer = PorterStemmer()\n"
   ]
  },
  {
   "cell_type": "code",
   "execution_count": 6,
   "id": "4147065a",
   "metadata": {},
   "outputs": [],
   "source": [
    "def preprocess_text(text):\n",
    "    # Remove '@user' tags\n",
    "    text = re.sub(r'@[^\\s]+', '', text)\n",
    "\n",
    "    # Remove hyperlinks\n",
    "    text = re.sub(r'http\\S+', '', text)\n",
    "\n",
    "    # Lowercasing\n",
    "    text = text.lower()\n",
    "\n",
    "    # Punctuation removal\n",
    "    text = re.sub(r'[^\\w\\s]', '', text)\n",
    "\n",
    "    # Stopword removal and stemming\n",
    "    tokens = word_tokenize(text)\n",
    "    #tokens = [token for token in tokens if token not in stopwords]\n",
    "    tokens = [stemmer.stem(token) for token in tokens] \n",
    "\n",
    "    return ' '.join(tokens)\n"
   ]
  },
  {
   "cell_type": "code",
   "execution_count": 7,
   "id": "ccc868d4",
   "metadata": {},
   "outputs": [],
   "source": [
    "# Apply preprocessing to 'text' column\n",
    "df[6] = df[5].apply(preprocess_text)\n",
    "\n",
    "# Save the tokens and 'target' column to a new CSV file\n",
    "df[[0,6]].to_csv('Tweet_Data\\\\tokens_vs_target.csv', index=False)"
   ]
  },
  {
   "cell_type": "code",
   "execution_count": 8,
   "id": "5f741e89",
   "metadata": {},
   "outputs": [],
   "source": [
    "del df"
   ]
  },
  {
   "cell_type": "code",
   "execution_count": 9,
   "id": "5d7b9f0d",
   "metadata": {},
   "outputs": [],
   "source": [
    "df = pd.read_csv(\"Tweet_Data\\\\tokens_vs_target.csv\", header = None)"
   ]
  },
  {
   "cell_type": "code",
   "execution_count": 10,
   "id": "44d15095",
   "metadata": {},
   "outputs": [
    {
     "data": {
      "text/plain": [
       "<bound method NDFrame.head of          0                                                  1\n",
       "0        0                                                  6\n",
       "1        0  awww that bummer shoulda got david carr third day\n",
       "2        0  upset cant updat facebook text might cri resul...\n",
       "3        0    dive mani time ball manag save 50 rest go bound\n",
       "4        0                    whole bodi feel itchi like fire\n",
       "...     ..                                                ...\n",
       "1599996  4                         woke school best feel ever\n",
       "1599997  4           thewdbcom cool hear old walt interview â\n",
       "1599998  4                       readi mojo makeov ask detail\n",
       "1599999  4  happi 38th birthday boo alll time tupac amaru ...\n",
       "1600000  4                               happi charitytuesday\n",
       "\n",
       "[1600001 rows x 2 columns]>"
      ]
     },
     "execution_count": 10,
     "metadata": {},
     "output_type": "execute_result"
    }
   ],
   "source": [
    "df.head"
   ]
  },
  {
   "cell_type": "code",
   "execution_count": 13,
   "id": "53267cf7",
   "metadata": {},
   "outputs": [
    {
     "data": {
      "text/plain": [
       "(1593209, 2)"
      ]
     },
     "execution_count": 13,
     "metadata": {},
     "output_type": "execute_result"
    }
   ],
   "source": [
    "# Drop rows with empty values in column 1\n",
    "df = df.dropna(subset=[1])\n",
    "\n",
    "df.shape"
   ]
  },
  {
   "cell_type": "code",
   "execution_count": 14,
   "id": "095cdaba",
   "metadata": {},
   "outputs": [
    {
     "data": {
      "text/plain": [
       "0                                                          6\n",
       "1          awww that bummer shoulda got david carr third day\n",
       "2          upset cant updat facebook text might cri resul...\n",
       "3            dive mani time ball manag save 50 rest go bound\n",
       "4                            whole bodi feel itchi like fire\n",
       "                                 ...                        \n",
       "1599996                           woke school best feel ever\n",
       "1599997             thewdbcom cool hear old walt interview â\n",
       "1599998                         readi mojo makeov ask detail\n",
       "1599999    happi 38th birthday boo alll time tupac amaru ...\n",
       "1600000                                 happi charitytuesday\n",
       "Name: 1, Length: 1593209, dtype: object"
      ]
     },
     "execution_count": 14,
     "metadata": {},
     "output_type": "execute_result"
    }
   ],
   "source": [
    "from sklearn.feature_extraction.text import TfidfVectorizer\n",
    "\n",
    "# Retrieve column 1 and convert it to a list of token lists\n",
    "token_lists = df[1]\n",
    "\n",
    "token_lists"
   ]
  },
  {
   "cell_type": "code",
   "execution_count": 15,
   "id": "3fbe1fa2",
   "metadata": {},
   "outputs": [
    {
     "data": {
      "text/html": [
       "<style>#sk-container-id-1 {color: black;background-color: white;}#sk-container-id-1 pre{padding: 0;}#sk-container-id-1 div.sk-toggleable {background-color: white;}#sk-container-id-1 label.sk-toggleable__label {cursor: pointer;display: block;width: 100%;margin-bottom: 0;padding: 0.3em;box-sizing: border-box;text-align: center;}#sk-container-id-1 label.sk-toggleable__label-arrow:before {content: \"▸\";float: left;margin-right: 0.25em;color: #696969;}#sk-container-id-1 label.sk-toggleable__label-arrow:hover:before {color: black;}#sk-container-id-1 div.sk-estimator:hover label.sk-toggleable__label-arrow:before {color: black;}#sk-container-id-1 div.sk-toggleable__content {max-height: 0;max-width: 0;overflow: hidden;text-align: left;background-color: #f0f8ff;}#sk-container-id-1 div.sk-toggleable__content pre {margin: 0.2em;color: black;border-radius: 0.25em;background-color: #f0f8ff;}#sk-container-id-1 input.sk-toggleable__control:checked~div.sk-toggleable__content {max-height: 200px;max-width: 100%;overflow: auto;}#sk-container-id-1 input.sk-toggleable__control:checked~label.sk-toggleable__label-arrow:before {content: \"▾\";}#sk-container-id-1 div.sk-estimator input.sk-toggleable__control:checked~label.sk-toggleable__label {background-color: #d4ebff;}#sk-container-id-1 div.sk-label input.sk-toggleable__control:checked~label.sk-toggleable__label {background-color: #d4ebff;}#sk-container-id-1 input.sk-hidden--visually {border: 0;clip: rect(1px 1px 1px 1px);clip: rect(1px, 1px, 1px, 1px);height: 1px;margin: -1px;overflow: hidden;padding: 0;position: absolute;width: 1px;}#sk-container-id-1 div.sk-estimator {font-family: monospace;background-color: #f0f8ff;border: 1px dotted black;border-radius: 0.25em;box-sizing: border-box;margin-bottom: 0.5em;}#sk-container-id-1 div.sk-estimator:hover {background-color: #d4ebff;}#sk-container-id-1 div.sk-parallel-item::after {content: \"\";width: 100%;border-bottom: 1px solid gray;flex-grow: 1;}#sk-container-id-1 div.sk-label:hover label.sk-toggleable__label {background-color: #d4ebff;}#sk-container-id-1 div.sk-serial::before {content: \"\";position: absolute;border-left: 1px solid gray;box-sizing: border-box;top: 0;bottom: 0;left: 50%;z-index: 0;}#sk-container-id-1 div.sk-serial {display: flex;flex-direction: column;align-items: center;background-color: white;padding-right: 0.2em;padding-left: 0.2em;position: relative;}#sk-container-id-1 div.sk-item {position: relative;z-index: 1;}#sk-container-id-1 div.sk-parallel {display: flex;align-items: stretch;justify-content: center;background-color: white;position: relative;}#sk-container-id-1 div.sk-item::before, #sk-container-id-1 div.sk-parallel-item::before {content: \"\";position: absolute;border-left: 1px solid gray;box-sizing: border-box;top: 0;bottom: 0;left: 50%;z-index: -1;}#sk-container-id-1 div.sk-parallel-item {display: flex;flex-direction: column;z-index: 1;position: relative;background-color: white;}#sk-container-id-1 div.sk-parallel-item:first-child::after {align-self: flex-end;width: 50%;}#sk-container-id-1 div.sk-parallel-item:last-child::after {align-self: flex-start;width: 50%;}#sk-container-id-1 div.sk-parallel-item:only-child::after {width: 0;}#sk-container-id-1 div.sk-dashed-wrapped {border: 1px dashed gray;margin: 0 0.4em 0.5em 0.4em;box-sizing: border-box;padding-bottom: 0.4em;background-color: white;}#sk-container-id-1 div.sk-label label {font-family: monospace;font-weight: bold;display: inline-block;line-height: 1.2em;}#sk-container-id-1 div.sk-label-container {text-align: center;}#sk-container-id-1 div.sk-container {/* jupyter's `normalize.less` sets `[hidden] { display: none; }` but bootstrap.min.css set `[hidden] { display: none !important; }` so we also need the `!important` here to be able to override the default hidden behavior on the sphinx rendered scikit-learn.org. See: https://github.com/scikit-learn/scikit-learn/issues/21755 */display: inline-block !important;position: relative;}#sk-container-id-1 div.sk-text-repr-fallback {display: none;}</style><div id=\"sk-container-id-1\" class=\"sk-top-container\"><div class=\"sk-text-repr-fallback\"><pre>TfidfVectorizer(max_features=50)</pre><b>In a Jupyter environment, please rerun this cell to show the HTML representation or trust the notebook. <br />On GitHub, the HTML representation is unable to render, please try loading this page with nbviewer.org.</b></div><div class=\"sk-container\" hidden><div class=\"sk-item\"><div class=\"sk-estimator sk-toggleable\"><input class=\"sk-toggleable__control sk-hidden--visually\" id=\"sk-estimator-id-1\" type=\"checkbox\" checked><label for=\"sk-estimator-id-1\" class=\"sk-toggleable__label sk-toggleable__label-arrow\">TfidfVectorizer</label><div class=\"sk-toggleable__content\"><pre>TfidfVectorizer(max_features=50)</pre></div></div></div></div></div>"
      ],
      "text/plain": [
       "TfidfVectorizer(max_features=50)"
      ]
     },
     "execution_count": 15,
     "metadata": {},
     "output_type": "execute_result"
    }
   ],
   "source": [
    "# Perform TF-IDF encoding and create vectors of size 50\n",
    "vectorizer = TfidfVectorizer(max_features=50)\n",
    "vectorizer.fit(token_lists)\n"
   ]
  },
  {
   "cell_type": "code",
   "execution_count": 16,
   "id": "200cb55b",
   "metadata": {},
   "outputs": [],
   "source": [
    "tfidf_vectors = vectorizer.transform(token_lists).toarray()\n",
    "\n",
    "# Create a new DataFrame with the vectors and column 0\n",
    "new_df = pd.DataFrame(tfidf_vectors)\n",
    "new_df.insert(0, \"target\", df[0])\n",
    "\n",
    "# Save the new DataFrame to a new CSV file\n",
    "new_df.to_csv('Tweet_Data\\\\vectors_vs_tokens.csv', index=False)"
   ]
  },
  {
   "cell_type": "code",
   "execution_count": 17,
   "id": "c1357364",
   "metadata": {},
   "outputs": [
    {
     "data": {
      "text/html": [
       "<div>\n",
       "<style scoped>\n",
       "    .dataframe tbody tr th:only-of-type {\n",
       "        vertical-align: middle;\n",
       "    }\n",
       "\n",
       "    .dataframe tbody tr th {\n",
       "        vertical-align: top;\n",
       "    }\n",
       "\n",
       "    .dataframe thead th {\n",
       "        text-align: right;\n",
       "    }\n",
       "</style>\n",
       "<table border=\"1\" class=\"dataframe\">\n",
       "  <thead>\n",
       "    <tr style=\"text-align: right;\">\n",
       "      <th></th>\n",
       "      <th>target</th>\n",
       "      <th>0</th>\n",
       "      <th>1</th>\n",
       "      <th>2</th>\n",
       "      <th>3</th>\n",
       "      <th>4</th>\n",
       "      <th>5</th>\n",
       "      <th>6</th>\n",
       "      <th>7</th>\n",
       "      <th>8</th>\n",
       "      <th>...</th>\n",
       "      <th>40</th>\n",
       "      <th>41</th>\n",
       "      <th>42</th>\n",
       "      <th>43</th>\n",
       "      <th>44</th>\n",
       "      <th>45</th>\n",
       "      <th>46</th>\n",
       "      <th>47</th>\n",
       "      <th>48</th>\n",
       "      <th>49</th>\n",
       "    </tr>\n",
       "  </thead>\n",
       "  <tbody>\n",
       "    <tr>\n",
       "      <th>0</th>\n",
       "      <td>0.0</td>\n",
       "      <td>0.0</td>\n",
       "      <td>0.0</td>\n",
       "      <td>0.000000</td>\n",
       "      <td>0.0</td>\n",
       "      <td>0.000000</td>\n",
       "      <td>0.0</td>\n",
       "      <td>0.00000</td>\n",
       "      <td>0.0</td>\n",
       "      <td>0.000000</td>\n",
       "      <td>...</td>\n",
       "      <td>0.000000</td>\n",
       "      <td>0.000000</td>\n",
       "      <td>0.0</td>\n",
       "      <td>0.0</td>\n",
       "      <td>0.0</td>\n",
       "      <td>0.0</td>\n",
       "      <td>0.0</td>\n",
       "      <td>0.0</td>\n",
       "      <td>0.0</td>\n",
       "      <td>0.0</td>\n",
       "    </tr>\n",
       "    <tr>\n",
       "      <th>1</th>\n",
       "      <td>0.0</td>\n",
       "      <td>0.0</td>\n",
       "      <td>0.0</td>\n",
       "      <td>0.000000</td>\n",
       "      <td>0.0</td>\n",
       "      <td>0.506993</td>\n",
       "      <td>0.0</td>\n",
       "      <td>0.00000</td>\n",
       "      <td>0.0</td>\n",
       "      <td>0.000000</td>\n",
       "      <td>...</td>\n",
       "      <td>0.000000</td>\n",
       "      <td>0.000000</td>\n",
       "      <td>0.0</td>\n",
       "      <td>0.0</td>\n",
       "      <td>0.0</td>\n",
       "      <td>0.0</td>\n",
       "      <td>0.0</td>\n",
       "      <td>0.0</td>\n",
       "      <td>0.0</td>\n",
       "      <td>0.0</td>\n",
       "    </tr>\n",
       "    <tr>\n",
       "      <th>2</th>\n",
       "      <td>0.0</td>\n",
       "      <td>0.0</td>\n",
       "      <td>0.0</td>\n",
       "      <td>0.711692</td>\n",
       "      <td>0.0</td>\n",
       "      <td>0.000000</td>\n",
       "      <td>0.0</td>\n",
       "      <td>0.00000</td>\n",
       "      <td>0.0</td>\n",
       "      <td>0.000000</td>\n",
       "      <td>...</td>\n",
       "      <td>0.000000</td>\n",
       "      <td>0.702491</td>\n",
       "      <td>0.0</td>\n",
       "      <td>0.0</td>\n",
       "      <td>0.0</td>\n",
       "      <td>0.0</td>\n",
       "      <td>0.0</td>\n",
       "      <td>0.0</td>\n",
       "      <td>0.0</td>\n",
       "      <td>0.0</td>\n",
       "    </tr>\n",
       "    <tr>\n",
       "      <th>3</th>\n",
       "      <td>0.0</td>\n",
       "      <td>0.0</td>\n",
       "      <td>0.0</td>\n",
       "      <td>0.000000</td>\n",
       "      <td>0.0</td>\n",
       "      <td>0.000000</td>\n",
       "      <td>0.0</td>\n",
       "      <td>0.00000</td>\n",
       "      <td>0.0</td>\n",
       "      <td>0.637816</td>\n",
       "      <td>...</td>\n",
       "      <td>0.770189</td>\n",
       "      <td>0.000000</td>\n",
       "      <td>0.0</td>\n",
       "      <td>0.0</td>\n",
       "      <td>0.0</td>\n",
       "      <td>0.0</td>\n",
       "      <td>0.0</td>\n",
       "      <td>0.0</td>\n",
       "      <td>0.0</td>\n",
       "      <td>0.0</td>\n",
       "    </tr>\n",
       "    <tr>\n",
       "      <th>4</th>\n",
       "      <td>0.0</td>\n",
       "      <td>0.0</td>\n",
       "      <td>0.0</td>\n",
       "      <td>0.000000</td>\n",
       "      <td>0.0</td>\n",
       "      <td>0.000000</td>\n",
       "      <td>0.0</td>\n",
       "      <td>0.74615</td>\n",
       "      <td>0.0</td>\n",
       "      <td>0.000000</td>\n",
       "      <td>...</td>\n",
       "      <td>0.000000</td>\n",
       "      <td>0.000000</td>\n",
       "      <td>0.0</td>\n",
       "      <td>0.0</td>\n",
       "      <td>0.0</td>\n",
       "      <td>0.0</td>\n",
       "      <td>0.0</td>\n",
       "      <td>0.0</td>\n",
       "      <td>0.0</td>\n",
       "      <td>0.0</td>\n",
       "    </tr>\n",
       "    <tr>\n",
       "      <th>...</th>\n",
       "      <td>...</td>\n",
       "      <td>...</td>\n",
       "      <td>...</td>\n",
       "      <td>...</td>\n",
       "      <td>...</td>\n",
       "      <td>...</td>\n",
       "      <td>...</td>\n",
       "      <td>...</td>\n",
       "      <td>...</td>\n",
       "      <td>...</td>\n",
       "      <td>...</td>\n",
       "      <td>...</td>\n",
       "      <td>...</td>\n",
       "      <td>...</td>\n",
       "      <td>...</td>\n",
       "      <td>...</td>\n",
       "      <td>...</td>\n",
       "      <td>...</td>\n",
       "      <td>...</td>\n",
       "      <td>...</td>\n",
       "      <td>...</td>\n",
       "    </tr>\n",
       "    <tr>\n",
       "      <th>1593204</th>\n",
       "      <td>4.0</td>\n",
       "      <td>0.0</td>\n",
       "      <td>0.0</td>\n",
       "      <td>0.000000</td>\n",
       "      <td>0.0</td>\n",
       "      <td>0.000000</td>\n",
       "      <td>0.0</td>\n",
       "      <td>1.00000</td>\n",
       "      <td>0.0</td>\n",
       "      <td>0.000000</td>\n",
       "      <td>...</td>\n",
       "      <td>0.000000</td>\n",
       "      <td>0.000000</td>\n",
       "      <td>0.0</td>\n",
       "      <td>0.0</td>\n",
       "      <td>0.0</td>\n",
       "      <td>0.0</td>\n",
       "      <td>0.0</td>\n",
       "      <td>0.0</td>\n",
       "      <td>0.0</td>\n",
       "      <td>0.0</td>\n",
       "    </tr>\n",
       "    <tr>\n",
       "      <th>1593205</th>\n",
       "      <td>4.0</td>\n",
       "      <td>0.0</td>\n",
       "      <td>0.0</td>\n",
       "      <td>0.000000</td>\n",
       "      <td>0.0</td>\n",
       "      <td>0.000000</td>\n",
       "      <td>0.0</td>\n",
       "      <td>0.00000</td>\n",
       "      <td>0.0</td>\n",
       "      <td>0.000000</td>\n",
       "      <td>...</td>\n",
       "      <td>0.000000</td>\n",
       "      <td>0.000000</td>\n",
       "      <td>0.0</td>\n",
       "      <td>0.0</td>\n",
       "      <td>0.0</td>\n",
       "      <td>0.0</td>\n",
       "      <td>0.0</td>\n",
       "      <td>0.0</td>\n",
       "      <td>0.0</td>\n",
       "      <td>0.0</td>\n",
       "    </tr>\n",
       "    <tr>\n",
       "      <th>1593206</th>\n",
       "      <td>4.0</td>\n",
       "      <td>0.0</td>\n",
       "      <td>0.0</td>\n",
       "      <td>0.000000</td>\n",
       "      <td>0.0</td>\n",
       "      <td>0.000000</td>\n",
       "      <td>0.0</td>\n",
       "      <td>0.00000</td>\n",
       "      <td>0.0</td>\n",
       "      <td>0.000000</td>\n",
       "      <td>...</td>\n",
       "      <td>0.000000</td>\n",
       "      <td>0.000000</td>\n",
       "      <td>0.0</td>\n",
       "      <td>0.0</td>\n",
       "      <td>0.0</td>\n",
       "      <td>0.0</td>\n",
       "      <td>0.0</td>\n",
       "      <td>0.0</td>\n",
       "      <td>0.0</td>\n",
       "      <td>0.0</td>\n",
       "    </tr>\n",
       "    <tr>\n",
       "      <th>1593207</th>\n",
       "      <td>4.0</td>\n",
       "      <td>0.0</td>\n",
       "      <td>0.0</td>\n",
       "      <td>0.000000</td>\n",
       "      <td>0.0</td>\n",
       "      <td>0.000000</td>\n",
       "      <td>0.0</td>\n",
       "      <td>0.00000</td>\n",
       "      <td>0.0</td>\n",
       "      <td>0.000000</td>\n",
       "      <td>...</td>\n",
       "      <td>1.000000</td>\n",
       "      <td>0.000000</td>\n",
       "      <td>0.0</td>\n",
       "      <td>0.0</td>\n",
       "      <td>0.0</td>\n",
       "      <td>0.0</td>\n",
       "      <td>0.0</td>\n",
       "      <td>0.0</td>\n",
       "      <td>0.0</td>\n",
       "      <td>0.0</td>\n",
       "    </tr>\n",
       "    <tr>\n",
       "      <th>1593208</th>\n",
       "      <td>4.0</td>\n",
       "      <td>0.0</td>\n",
       "      <td>0.0</td>\n",
       "      <td>0.000000</td>\n",
       "      <td>0.0</td>\n",
       "      <td>0.000000</td>\n",
       "      <td>0.0</td>\n",
       "      <td>0.00000</td>\n",
       "      <td>0.0</td>\n",
       "      <td>0.000000</td>\n",
       "      <td>...</td>\n",
       "      <td>0.000000</td>\n",
       "      <td>0.000000</td>\n",
       "      <td>0.0</td>\n",
       "      <td>0.0</td>\n",
       "      <td>0.0</td>\n",
       "      <td>0.0</td>\n",
       "      <td>0.0</td>\n",
       "      <td>0.0</td>\n",
       "      <td>0.0</td>\n",
       "      <td>0.0</td>\n",
       "    </tr>\n",
       "  </tbody>\n",
       "</table>\n",
       "<p>1593209 rows × 51 columns</p>\n",
       "</div>"
      ],
      "text/plain": [
       "         target    0    1         2    3         4    5        6    7   \n",
       "0           0.0  0.0  0.0  0.000000  0.0  0.000000  0.0  0.00000  0.0  \\\n",
       "1           0.0  0.0  0.0  0.000000  0.0  0.506993  0.0  0.00000  0.0   \n",
       "2           0.0  0.0  0.0  0.711692  0.0  0.000000  0.0  0.00000  0.0   \n",
       "3           0.0  0.0  0.0  0.000000  0.0  0.000000  0.0  0.00000  0.0   \n",
       "4           0.0  0.0  0.0  0.000000  0.0  0.000000  0.0  0.74615  0.0   \n",
       "...         ...  ...  ...       ...  ...       ...  ...      ...  ...   \n",
       "1593204     4.0  0.0  0.0  0.000000  0.0  0.000000  0.0  1.00000  0.0   \n",
       "1593205     4.0  0.0  0.0  0.000000  0.0  0.000000  0.0  0.00000  0.0   \n",
       "1593206     4.0  0.0  0.0  0.000000  0.0  0.000000  0.0  0.00000  0.0   \n",
       "1593207     4.0  0.0  0.0  0.000000  0.0  0.000000  0.0  0.00000  0.0   \n",
       "1593208     4.0  0.0  0.0  0.000000  0.0  0.000000  0.0  0.00000  0.0   \n",
       "\n",
       "                8  ...        40        41   42   43   44   45   46   47   48   \n",
       "0        0.000000  ...  0.000000  0.000000  0.0  0.0  0.0  0.0  0.0  0.0  0.0  \\\n",
       "1        0.000000  ...  0.000000  0.000000  0.0  0.0  0.0  0.0  0.0  0.0  0.0   \n",
       "2        0.000000  ...  0.000000  0.702491  0.0  0.0  0.0  0.0  0.0  0.0  0.0   \n",
       "3        0.637816  ...  0.770189  0.000000  0.0  0.0  0.0  0.0  0.0  0.0  0.0   \n",
       "4        0.000000  ...  0.000000  0.000000  0.0  0.0  0.0  0.0  0.0  0.0  0.0   \n",
       "...           ...  ...       ...       ...  ...  ...  ...  ...  ...  ...  ...   \n",
       "1593204  0.000000  ...  0.000000  0.000000  0.0  0.0  0.0  0.0  0.0  0.0  0.0   \n",
       "1593205  0.000000  ...  0.000000  0.000000  0.0  0.0  0.0  0.0  0.0  0.0  0.0   \n",
       "1593206  0.000000  ...  0.000000  0.000000  0.0  0.0  0.0  0.0  0.0  0.0  0.0   \n",
       "1593207  0.000000  ...  1.000000  0.000000  0.0  0.0  0.0  0.0  0.0  0.0  0.0   \n",
       "1593208  0.000000  ...  0.000000  0.000000  0.0  0.0  0.0  0.0  0.0  0.0  0.0   \n",
       "\n",
       "          49  \n",
       "0        0.0  \n",
       "1        0.0  \n",
       "2        0.0  \n",
       "3        0.0  \n",
       "4        0.0  \n",
       "...      ...  \n",
       "1593204  0.0  \n",
       "1593205  0.0  \n",
       "1593206  0.0  \n",
       "1593207  0.0  \n",
       "1593208  0.0  \n",
       "\n",
       "[1593209 rows x 51 columns]"
      ]
     },
     "execution_count": 17,
     "metadata": {},
     "output_type": "execute_result"
    }
   ],
   "source": [
    "new_df"
   ]
  },
  {
   "cell_type": "code",
   "execution_count": 18,
   "id": "928e6858",
   "metadata": {},
   "outputs": [],
   "source": [
    "del df\n",
    "del new_df"
   ]
  },
  {
   "cell_type": "code",
   "execution_count": 19,
   "id": "6badd395",
   "metadata": {},
   "outputs": [
    {
     "data": {
      "text/plain": [
       "<bound method NDFrame.head of          target    0    1         2    3         4    5        6    7   \n",
       "0           0.0  0.0  0.0  0.000000  0.0  0.000000  0.0  0.00000  0.0  \\\n",
       "1           0.0  0.0  0.0  0.000000  0.0  0.506993  0.0  0.00000  0.0   \n",
       "2           0.0  0.0  0.0  0.711692  0.0  0.000000  0.0  0.00000  0.0   \n",
       "3           0.0  0.0  0.0  0.000000  0.0  0.000000  0.0  0.00000  0.0   \n",
       "4           0.0  0.0  0.0  0.000000  0.0  0.000000  0.0  0.74615  0.0   \n",
       "...         ...  ...  ...       ...  ...       ...  ...      ...  ...   \n",
       "1593204     4.0  0.0  0.0  0.000000  0.0  0.000000  0.0  1.00000  0.0   \n",
       "1593205     4.0  0.0  0.0  0.000000  0.0  0.000000  0.0  0.00000  0.0   \n",
       "1593206     4.0  0.0  0.0  0.000000  0.0  0.000000  0.0  0.00000  0.0   \n",
       "1593207     4.0  0.0  0.0  0.000000  0.0  0.000000  0.0  0.00000  0.0   \n",
       "1593208     4.0  0.0  0.0  0.000000  0.0  0.000000  0.0  0.00000  0.0   \n",
       "\n",
       "                8  ...        40        41   42   43   44   45   46   47   48   \n",
       "0        0.000000  ...  0.000000  0.000000  0.0  0.0  0.0  0.0  0.0  0.0  0.0  \\\n",
       "1        0.000000  ...  0.000000  0.000000  0.0  0.0  0.0  0.0  0.0  0.0  0.0   \n",
       "2        0.000000  ...  0.000000  0.702491  0.0  0.0  0.0  0.0  0.0  0.0  0.0   \n",
       "3        0.637816  ...  0.770189  0.000000  0.0  0.0  0.0  0.0  0.0  0.0  0.0   \n",
       "4        0.000000  ...  0.000000  0.000000  0.0  0.0  0.0  0.0  0.0  0.0  0.0   \n",
       "...           ...  ...       ...       ...  ...  ...  ...  ...  ...  ...  ...   \n",
       "1593204  0.000000  ...  0.000000  0.000000  0.0  0.0  0.0  0.0  0.0  0.0  0.0   \n",
       "1593205  0.000000  ...  0.000000  0.000000  0.0  0.0  0.0  0.0  0.0  0.0  0.0   \n",
       "1593206  0.000000  ...  0.000000  0.000000  0.0  0.0  0.0  0.0  0.0  0.0  0.0   \n",
       "1593207  0.000000  ...  1.000000  0.000000  0.0  0.0  0.0  0.0  0.0  0.0  0.0   \n",
       "1593208  0.000000  ...  0.000000  0.000000  0.0  0.0  0.0  0.0  0.0  0.0  0.0   \n",
       "\n",
       "          49  \n",
       "0        0.0  \n",
       "1        0.0  \n",
       "2        0.0  \n",
       "3        0.0  \n",
       "4        0.0  \n",
       "...      ...  \n",
       "1593204  0.0  \n",
       "1593205  0.0  \n",
       "1593206  0.0  \n",
       "1593207  0.0  \n",
       "1593208  0.0  \n",
       "\n",
       "[1593209 rows x 51 columns]>"
      ]
     },
     "execution_count": 19,
     "metadata": {},
     "output_type": "execute_result"
    }
   ],
   "source": [
    "df = pd.read_csv('Tweet_Data\\\\vectors_vs_tokens.csv')\n",
    "\n",
    "df.head"
   ]
  },
  {
   "cell_type": "code",
   "execution_count": 20,
   "id": "24cfd932",
   "metadata": {},
   "outputs": [
    {
     "data": {
      "text/plain": [
       "Index(['target', '0', '1', '2', '3', '4', '5', '6', '7', '8', '9', '10', '11',\n",
       "       '12', '13', '14', '15', '16', '17', '18', '19', '20', '21', '22', '23',\n",
       "       '24', '25', '26', '27', '28', '29', '30', '31', '32', '33', '34', '35',\n",
       "       '36', '37', '38', '39', '40', '41', '42', '43', '44', '45', '46', '47',\n",
       "       '48', '49'],\n",
       "      dtype='object')"
      ]
     },
     "execution_count": 20,
     "metadata": {},
     "output_type": "execute_result"
    }
   ],
   "source": [
    "df.columns"
   ]
  },
  {
   "cell_type": "code",
   "execution_count": 34,
   "id": "8cef4c75",
   "metadata": {},
   "outputs": [],
   "source": [
    "# Extract the 'target' column as y_data\n",
    "y_data = df['target'].values.astype(int)\n",
    "\n",
    "# Extract the remaining 50 columns as x_data\n",
    "x_data = df.drop('target', axis=1).values\n"
   ]
  },
  {
   "cell_type": "code",
   "execution_count": 35,
   "id": "743c1d9d",
   "metadata": {},
   "outputs": [
    {
     "data": {
      "text/plain": [
       "array([0, 0, 0, ..., 4, 4, 4])"
      ]
     },
     "execution_count": 35,
     "metadata": {},
     "output_type": "execute_result"
    }
   ],
   "source": [
    "y_data"
   ]
  },
  {
   "cell_type": "code",
   "execution_count": 49,
   "id": "6a7e90f6",
   "metadata": {},
   "outputs": [],
   "source": [
    "for i in range(len(y_data)):\n",
    "    if y_data[i] not in [0, 2, 4]:\n",
    "        y_data[i] = 2"
   ]
  },
  {
   "cell_type": "code",
   "execution_count": 50,
   "id": "9e6b2a34",
   "metadata": {},
   "outputs": [
    {
     "data": {
      "text/plain": [
       "(1593209,)"
      ]
     },
     "execution_count": 50,
     "metadata": {},
     "output_type": "execute_result"
    }
   ],
   "source": [
    "y_data.shape"
   ]
  },
  {
   "cell_type": "code",
   "execution_count": 51,
   "id": "00a27c5e",
   "metadata": {},
   "outputs": [
    {
     "data": {
      "text/plain": [
       "(1593209, 50)"
      ]
     },
     "execution_count": 51,
     "metadata": {},
     "output_type": "execute_result"
    }
   ],
   "source": [
    "x_data.shape"
   ]
  },
  {
   "cell_type": "code",
   "execution_count": 52,
   "id": "7d746285",
   "metadata": {},
   "outputs": [
    {
     "data": {
      "text/plain": [
       "array([[0.        , 0.        , 0.        , ..., 0.        , 0.        ,\n",
       "        0.        ],\n",
       "       [0.        , 0.        , 0.        , ..., 0.        , 0.        ,\n",
       "        0.        ],\n",
       "       [0.        , 0.        , 0.71169227, ..., 0.        , 0.        ,\n",
       "        0.        ],\n",
       "       ...,\n",
       "       [0.        , 0.        , 0.        , ..., 0.        , 0.        ,\n",
       "        0.        ],\n",
       "       [0.        , 0.        , 0.        , ..., 0.        , 0.        ,\n",
       "        0.        ],\n",
       "       [0.        , 0.        , 0.        , ..., 0.        , 0.        ,\n",
       "        0.        ]])"
      ]
     },
     "execution_count": 52,
     "metadata": {},
     "output_type": "execute_result"
    }
   ],
   "source": [
    "x_data"
   ]
  },
  {
   "cell_type": "code",
   "execution_count": 53,
   "id": "938b0d42",
   "metadata": {},
   "outputs": [],
   "source": [
    "from sklearn.model_selection import train_test_split\n",
    "\n",
    "# Split the data into training and validation sets\n",
    "x_train, x_val, y_train, y_val = train_test_split(x_data, y_data, test_size=0.2, random_state=0)\n"
   ]
  },
  {
   "cell_type": "code",
   "execution_count": 54,
   "id": "6da50cb0",
   "metadata": {},
   "outputs": [
    {
     "data": {
      "text/plain": [
       "(1274567, 50)"
      ]
     },
     "execution_count": 54,
     "metadata": {},
     "output_type": "execute_result"
    }
   ],
   "source": [
    "x_train.shape"
   ]
  },
  {
   "cell_type": "code",
   "execution_count": 55,
   "id": "3faea8ba",
   "metadata": {},
   "outputs": [
    {
     "data": {
      "text/plain": [
       "(1274567,)"
      ]
     },
     "execution_count": 55,
     "metadata": {},
     "output_type": "execute_result"
    }
   ],
   "source": [
    "y_train.shape"
   ]
  },
  {
   "cell_type": "code",
   "execution_count": 56,
   "id": "764f1a74",
   "metadata": {},
   "outputs": [],
   "source": [
    "import numpy as np\n",
    "from tensorflow import keras\n",
    "from tensorflow.keras import layers\n",
    "from tensorflow.keras.models import Sequential\n",
    "from tensorflow.keras.layers import Dense, BatchNormalization, Dropout"
   ]
  },
  {
   "cell_type": "code",
   "execution_count": 57,
   "id": "ec58dd21",
   "metadata": {},
   "outputs": [],
   "source": [
    "model = Sequential()\n",
    "model.add(BatchNormalization())\n",
    "model.add(Dense(256, activation='relu',input_shape = [50]))\n",
    "model.add(Dropout(0.3))\n",
    "model.add(BatchNormalization())\n",
    "model.add(Dense(256,activation='relu'))\n",
    "model.add(Dense(5, activation = 'softmax'))  \n",
    "\n",
    "# Compile the model\n",
    "model.compile(optimizer = 'adam',\n",
    "              loss = 'sparse_categorical_crossentropy',\n",
    "              metrics=['accuracy'])\n",
    "\n"
   ]
  },
  {
   "cell_type": "code",
   "execution_count": 58,
   "id": "641311b4",
   "metadata": {},
   "outputs": [
    {
     "name": "stdout",
     "output_type": "stream",
     "text": [
      "Epoch 1/10\n",
      "1275/1275 [==============================] - 11s 8ms/step - loss: 0.6674 - accuracy: 0.6155\n",
      "Epoch 2/10\n",
      "1275/1275 [==============================] - 11s 9ms/step - loss: 0.6516 - accuracy: 0.6249\n",
      "Epoch 3/10\n",
      "1275/1275 [==============================] - 11s 9ms/step - loss: 0.6503 - accuracy: 0.6259\n",
      "Epoch 4/10\n",
      "1275/1275 [==============================] - 12s 9ms/step - loss: 0.6496 - accuracy: 0.6269\n",
      "Epoch 5/10\n",
      "1275/1275 [==============================] - 12s 10ms/step - loss: 0.6491 - accuracy: 0.6271\n",
      "Epoch 6/10\n",
      "1275/1275 [==============================] - 12s 10ms/step - loss: 0.6485 - accuracy: 0.6277\n",
      "Epoch 7/10\n",
      "1275/1275 [==============================] - 12s 10ms/step - loss: 0.6480 - accuracy: 0.6284\n",
      "Epoch 8/10\n",
      "1275/1275 [==============================] - 11s 9ms/step - loss: 0.6477 - accuracy: 0.6287\n",
      "Epoch 9/10\n",
      "1275/1275 [==============================] - 12s 10ms/step - loss: 0.6474 - accuracy: 0.6291\n",
      "Epoch 10/10\n",
      "1275/1275 [==============================] - 12s 9ms/step - loss: 0.6471 - accuracy: 0.6295\n"
     ]
    }
   ],
   "source": [
    "# Train the model\n",
    "model.fit(x_train, y_train, batch_size=1000, epochs=10)\n",
    "\n",
    "model.save('trained_model.h5')"
   ]
  },
  {
   "cell_type": "code",
   "execution_count": 59,
   "id": "adf2032d",
   "metadata": {},
   "outputs": [
    {
     "name": "stdout",
     "output_type": "stream",
     "text": [
      "9958/9958 [==============================] - 11s 1ms/step - loss: 0.6473 - accuracy: 0.6293\n"
     ]
    },
    {
     "data": {
      "text/plain": [
       "[0.6473031044006348, 0.6292830109596252]"
      ]
     },
     "execution_count": 59,
     "metadata": {},
     "output_type": "execute_result"
    }
   ],
   "source": [
    "model = keras.models.load_model('trained_model.h5')\n",
    "\n",
    "model.evaluate(x_val,y_val)"
   ]
  },
  {
   "cell_type": "code",
   "execution_count": 60,
   "id": "0ce4ec14",
   "metadata": {},
   "outputs": [
    {
     "name": "stdout",
     "output_type": "stream",
     "text": [
      "9958/9958 [==============================] - 9s 866us/step\n"
     ]
    }
   ],
   "source": [
    "from sklearn.metrics import accuracy_score, precision_score, recall_score, f1_score\n",
    "\n",
    "y_pred = model.predict(x_val)"
   ]
  },
  {
   "cell_type": "code",
   "execution_count": 61,
   "id": "6a75eca5",
   "metadata": {},
   "outputs": [
    {
     "data": {
      "text/plain": [
       "array([[4.7987479e-01, 1.2874833e-07, 4.3951799e-03, 1.6359846e-07,\n",
       "        5.1572967e-01],\n",
       "       [5.1490748e-01, 1.0580252e-07, 4.0214318e-03, 1.5711383e-07,\n",
       "        4.8107085e-01],\n",
       "       [5.5279094e-01, 8.4532239e-08, 4.0918449e-03, 1.6516394e-07,\n",
       "        4.4311696e-01],\n",
       "       ...,\n",
       "       [3.3980045e-01, 7.0389277e-08, 3.5985666e-03, 1.4605416e-07,\n",
       "        6.5660077e-01],\n",
       "       [5.0041711e-01, 4.5668354e-08, 2.6664031e-03, 6.6730671e-08,\n",
       "        4.9691635e-01],\n",
       "       [4.6689385e-01, 8.4905523e-08, 3.4474891e-03, 5.5547364e-08,\n",
       "        5.2965856e-01]], dtype=float32)"
      ]
     },
     "execution_count": 61,
     "metadata": {},
     "output_type": "execute_result"
    }
   ],
   "source": [
    "y_pred"
   ]
  },
  {
   "cell_type": "code",
   "execution_count": 62,
   "id": "53fd61f9",
   "metadata": {},
   "outputs": [
    {
     "data": {
      "text/plain": [
       "array([4, 0, 4, ..., 4, 0, 4])"
      ]
     },
     "execution_count": 62,
     "metadata": {},
     "output_type": "execute_result"
    }
   ],
   "source": [
    "y_val"
   ]
  },
  {
   "cell_type": "code",
   "execution_count": 63,
   "id": "bf1aae92",
   "metadata": {},
   "outputs": [
    {
     "data": {
      "text/plain": [
       "array([4, 0, 0, ..., 4, 0, 4], dtype=int64)"
      ]
     },
     "execution_count": 63,
     "metadata": {},
     "output_type": "execute_result"
    }
   ],
   "source": [
    "# Convert probabilities to predicted labels\n",
    "y_pred_labels = np.argmax(y_pred, axis=1)\n",
    "\n",
    "# Print the resulting array\n",
    "y_pred_labels"
   ]
  },
  {
   "cell_type": "code",
   "execution_count": 64,
   "id": "a04b9bf3",
   "metadata": {},
   "outputs": [
    {
     "name": "stdout",
     "output_type": "stream",
     "text": [
      "Accuracy: 0.6292830198153414\n",
      "Precision: 0.6328407193670639\n",
      "Recall: 0.6292830198153414\n",
      "F1-score: 0.624059564340885\n"
     ]
    },
    {
     "name": "stderr",
     "output_type": "stream",
     "text": [
      "C:\\Users\\Rudrransh\\AppData\\Roaming\\Python\\Python311\\site-packages\\sklearn\\metrics\\_classification.py:1344: UndefinedMetricWarning: Precision is ill-defined and being set to 0.0 in labels with no predicted samples. Use `zero_division` parameter to control this behavior.\n",
      "  _warn_prf(average, modifier, msg_start, len(result))\n"
     ]
    }
   ],
   "source": [
    "# Calculate accuracy\n",
    "accuracy = accuracy_score(y_val, y_pred_labels)\n",
    "\n",
    "# Calculate precision\n",
    "precision = precision_score(y_val, y_pred_labels, average='weighted')\n",
    "\n",
    "# Calculate recall\n",
    "recall = recall_score(y_val, y_pred_labels, average='weighted')\n",
    "\n",
    "# Calculate F1-score\n",
    "f1 = f1_score(y_val, y_pred_labels, average='weighted')\n",
    "\n",
    "# Print the evaluation metrics\n",
    "print(\"Accuracy:\", accuracy)\n",
    "print(\"Precision:\", precision)\n",
    "print(\"Recall:\", recall)\n",
    "print(\"F1-score:\", f1)"
   ]
  },
  {
   "cell_type": "code",
   "execution_count": 101,
   "id": "a0e72b80",
   "metadata": {},
   "outputs": [
    {
     "data": {
      "text/plain": [
       "'hand itchi'"
      ]
     },
     "execution_count": 101,
     "metadata": {},
     "output_type": "execute_result"
    }
   ],
   "source": [
    "input_text = 'hand is itchy'\n",
    "\n",
    "input_tokens = preprocess_text(input_text)\n",
    "\n",
    "input_tokens\n"
   ]
  },
  {
   "cell_type": "code",
   "execution_count": 102,
   "id": "8f5e54cb",
   "metadata": {},
   "outputs": [
    {
     "data": {
      "text/plain": [
       "array([[0., 0., 0., 0., 0., 0., 0., 0., 0., 0., 0., 0., 0., 0., 0., 0.,\n",
       "        0., 0., 0., 0., 0., 0., 0., 0., 0., 0., 0., 0., 0., 0., 0., 0.,\n",
       "        0., 0., 0., 0., 0., 0., 0., 0., 0., 0., 0., 0., 0., 0., 0., 0.,\n",
       "        0., 0.]])"
      ]
     },
     "execution_count": 102,
     "metadata": {},
     "output_type": "execute_result"
    }
   ],
   "source": [
    "input_vector = vectorizer.transform([input_tokens]).toarray()\n",
    "\n",
    "input_vector"
   ]
  },
  {
   "cell_type": "code",
   "execution_count": 103,
   "id": "1eefc5fe",
   "metadata": {},
   "outputs": [
    {
     "name": "stdout",
     "output_type": "stream",
     "text": [
      "1/1 [==============================] - 0s 22ms/step\n"
     ]
    },
    {
     "data": {
      "text/plain": [
       "array([4], dtype=int64)"
      ]
     },
     "execution_count": 103,
     "metadata": {},
     "output_type": "execute_result"
    }
   ],
   "source": [
    "output = np.argmax(model.predict([input_vector]), axis=1)\n",
    "\n",
    "output"
   ]
  },
  {
   "cell_type": "code",
   "execution_count": null,
   "id": "1872dcb1",
   "metadata": {},
   "outputs": [],
   "source": []
  }
 ],
 "metadata": {
  "kernelspec": {
   "display_name": "tf",
   "language": "python",
   "name": "tf"
  },
  "language_info": {
   "codemirror_mode": {
    "name": "ipython",
    "version": 3
   },
   "file_extension": ".py",
   "mimetype": "text/x-python",
   "name": "python",
   "nbconvert_exporter": "python",
   "pygments_lexer": "ipython3",
   "version": "3.11.3"
  }
 },
 "nbformat": 4,
 "nbformat_minor": 5
}
