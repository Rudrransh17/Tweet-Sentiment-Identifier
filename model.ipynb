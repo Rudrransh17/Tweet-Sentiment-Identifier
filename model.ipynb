{
 "cells": [
  {
   "cell_type": "code",
   "execution_count": 1,
   "id": "31c26656",
   "metadata": {},
   "outputs": [
    {
     "name": "stderr",
     "output_type": "stream",
     "text": [
      "[nltk_data] Downloading package punkt to\n",
      "[nltk_data]     C:\\Users\\Rudrransh\\AppData\\Roaming\\nltk_data...\n",
      "[nltk_data]   Package punkt is already up-to-date!\n",
      "[nltk_data] Downloading package stopwords to\n",
      "[nltk_data]     C:\\Users\\Rudrransh\\AppData\\Roaming\\nltk_data...\n",
      "[nltk_data]   Package stopwords is already up-to-date!\n",
      "[nltk_data] Downloading package wordnet to\n",
      "[nltk_data]     C:\\Users\\Rudrransh\\AppData\\Roaming\\nltk_data...\n",
      "[nltk_data]   Package wordnet is already up-to-date!\n"
     ]
    }
   ],
   "source": [
    "import pandas as pd\n",
    "import numpy as np\n",
    "import re # Regex Library for removing tags and hyperlinks in tweets\n",
    "import nltk\n",
    "nltk.download('punkt')\n",
    "nltk.download('stopwords')\n",
    "nltk.download('wordnet')\n",
    "from nltk.corpus import stopwords # Stopwords corpus from nltk library\n",
    "from nltk.stem import PorterStemmer # Stemmer to perform stemming on tokens\n",
    "from nltk.tokenize import word_tokenize # Tokenizer to make tokens\n",
    "import pickle # To save vectorizer in form of pickle file\n",
    "from sklearn.feature_extraction.text import TfidfVectorizer # TF-IDF Vectorizer\n",
    "from sklearn.model_selection import train_test_split\n",
    "from sklearn.metrics import accuracy_score, precision_score, recall_score, f1_score\n",
    "from tensorflow import keras\n",
    "from tensorflow.keras import layers\n",
    "from tensorflow.keras.models import Sequential\n",
    "from tensorflow.keras.layers import Dense, BatchNormalization, Dropout"
   ]
  },
  {
   "cell_type": "code",
   "execution_count": 2,
   "id": "52fa4fab",
   "metadata": {},
   "outputs": [],
   "source": [
    "# Read the original CSV file\n",
    "df = pd.read_csv('Tweet_Data\\original_tweet_data.csv', encoding='latin-1', header = None)"
   ]
  },
  {
   "cell_type": "code",
   "execution_count": 3,
   "id": "8d67fa53",
   "metadata": {},
   "outputs": [
    {
     "data": {
      "text/plain": [
       "<bound method NDFrame.head of          0           1                             2         3   \n",
       "0        0  1467810369  Mon Apr 06 22:19:45 PDT 2009  NO_QUERY  \\\n",
       "1        0  1467810672  Mon Apr 06 22:19:49 PDT 2009  NO_QUERY   \n",
       "2        0  1467810917  Mon Apr 06 22:19:53 PDT 2009  NO_QUERY   \n",
       "3        0  1467811184  Mon Apr 06 22:19:57 PDT 2009  NO_QUERY   \n",
       "4        0  1467811193  Mon Apr 06 22:19:57 PDT 2009  NO_QUERY   \n",
       "...     ..         ...                           ...       ...   \n",
       "1599995  4  2193601966  Tue Jun 16 08:40:49 PDT 2009  NO_QUERY   \n",
       "1599996  4  2193601969  Tue Jun 16 08:40:49 PDT 2009  NO_QUERY   \n",
       "1599997  4  2193601991  Tue Jun 16 08:40:49 PDT 2009  NO_QUERY   \n",
       "1599998  4  2193602064  Tue Jun 16 08:40:49 PDT 2009  NO_QUERY   \n",
       "1599999  4  2193602129  Tue Jun 16 08:40:50 PDT 2009  NO_QUERY   \n",
       "\n",
       "                       4                                                  5  \n",
       "0        _TheSpecialOne_  @switchfoot http://twitpic.com/2y1zl - Awww, t...  \n",
       "1          scotthamilton  is upset that he can't update his Facebook by ...  \n",
       "2               mattycus  @Kenichan I dived many times for the ball. Man...  \n",
       "3                ElleCTF    my whole body feels itchy and like its on fire   \n",
       "4                 Karoli  @nationwideclass no, it's not behaving at all....  \n",
       "...                  ...                                                ...  \n",
       "1599995  AmandaMarie1028  Just woke up. Having no school is the best fee...  \n",
       "1599996      TheWDBoards  TheWDB.com - Very cool to hear old Walt interv...  \n",
       "1599997           bpbabe  Are you ready for your MoJo Makeover? Ask me f...  \n",
       "1599998     tinydiamondz  Happy 38th Birthday to my boo of alll time!!! ...  \n",
       "1599999   RyanTrevMorris  happy #charitytuesday @theNSPCC @SparksCharity...  \n",
       "\n",
       "[1600000 rows x 6 columns]>"
      ]
     },
     "execution_count": 3,
     "metadata": {},
     "output_type": "execute_result"
    }
   ],
   "source": [
    "# Have a look at df\n",
    "df.head"
   ]
  },
  {
   "cell_type": "code",
   "execution_count": 4,
   "id": "19e9086e",
   "metadata": {},
   "outputs": [
    {
     "data": {
      "text/plain": [
       "Index([0, 1, 2, 3, 4, 5], dtype='int64')"
      ]
     },
     "execution_count": 4,
     "metadata": {},
     "output_type": "execute_result"
    }
   ],
   "source": [
    "# See columns of the df\n",
    "df.columns"
   ]
  },
  {
   "cell_type": "code",
   "execution_count": 5,
   "id": "4147065a",
   "metadata": {},
   "outputs": [],
   "source": [
    "# Set of stopwords\n",
    "stopwords = set(stopwords.words('english'))\n",
    "\n",
    "# Stemmer object\n",
    "stemmer = PorterStemmer()\n",
    "\n",
    "# Function to preprocess input tweets and return tokens\n",
    "def preprocess_text(text):\n",
    "    # Remove '@user' tags\n",
    "    text = re.sub(r'@[^\\s]+', '', text)\n",
    "\n",
    "    # Remove hyperlinks\n",
    "    text = re.sub(r'http\\S+', '', text)\n",
    "\n",
    "    # Lowercasing\n",
    "    text = text.lower()\n",
    "\n",
    "    # Punctuation removal\n",
    "    text = re.sub(r'[^\\w\\s]', '', text)\n",
    "\n",
    "    # Stopword removal and stemming\n",
    "    tokens = word_tokenize(text)\n",
    "    #tokens = [token for token in tokens if token not in stopwords]\n",
    "    tokens = [stemmer.stem(token) for token in tokens] \n",
    "\n",
    "    return ' '.join(tokens)\n"
   ]
  },
  {
   "cell_type": "code",
   "execution_count": 6,
   "id": "ccc868d4",
   "metadata": {},
   "outputs": [],
   "source": [
    "# Apply preprocessing to 'text' column\n",
    "df[6] = df[5].apply(preprocess_text)\n",
    "\n",
    "# Save the tokens and 'target' column to a new CSV file\n",
    "df[[0,6]].to_csv('Tweet_Data\\\\tokens_vs_target.csv', index=False)"
   ]
  },
  {
   "cell_type": "code",
   "execution_count": 7,
   "id": "5f741e89",
   "metadata": {},
   "outputs": [],
   "source": [
    "# Deletes previous dataframe object to free up memory\n",
    "del df"
   ]
  },
  {
   "cell_type": "code",
   "execution_count": 8,
   "id": "5d7b9f0d",
   "metadata": {},
   "outputs": [],
   "source": [
    "# Read the tokens file\n",
    "df = pd.read_csv(\"Tweet_Data\\\\tokens_vs_target.csv\", header = None)"
   ]
  },
  {
   "cell_type": "code",
   "execution_count": 9,
   "id": "44d15095",
   "metadata": {},
   "outputs": [
    {
     "data": {
      "text/plain": [
       "<bound method NDFrame.head of          0                                                  1\n",
       "0        0                                                  6\n",
       "1        0  awww that a bummer you shoulda got david carr ...\n",
       "2        0  is upset that he cant updat hi facebook by tex...\n",
       "3        0  i dive mani time for the ball manag to save 50...\n",
       "4        0       my whole bodi feel itchi and like it on fire\n",
       "...     ..                                                ...\n",
       "1599996  4  just woke up have no school is the best feel ever\n",
       "1599997  4   thewdbcom veri cool to hear old walt interview â\n",
       "1599998  4  are you readi for your mojo makeov ask me for ...\n",
       "1599999  4  happi 38th birthday to my boo of alll time tup...\n",
       "1600000  4                               happi charitytuesday\n",
       "\n",
       "[1600001 rows x 2 columns]>"
      ]
     },
     "execution_count": 9,
     "metadata": {},
     "output_type": "execute_result"
    }
   ],
   "source": [
    "# Having a look at tokens\n",
    "df.head"
   ]
  },
  {
   "cell_type": "code",
   "execution_count": 10,
   "id": "33fedb32",
   "metadata": {},
   "outputs": [
    {
     "data": {
      "text/plain": [
       "(1596865, 2)"
      ]
     },
     "execution_count": 10,
     "metadata": {},
     "output_type": "execute_result"
    }
   ],
   "source": [
    "# Drop rows with empty token values\n",
    "df = df.dropna(subset=[1])\n",
    "\n",
    "df.shape"
   ]
  },
  {
   "cell_type": "code",
   "execution_count": 11,
   "id": "a28ec420",
   "metadata": {},
   "outputs": [
    {
     "data": {
      "text/plain": [
       "0                                                          6\n",
       "1          awww that a bummer you shoulda got david carr ...\n",
       "2          is upset that he cant updat hi facebook by tex...\n",
       "3          i dive mani time for the ball manag to save 50...\n",
       "4               my whole bodi feel itchi and like it on fire\n",
       "                                 ...                        \n",
       "1599996    just woke up have no school is the best feel ever\n",
       "1599997     thewdbcom veri cool to hear old walt interview â\n",
       "1599998    are you readi for your mojo makeov ask me for ...\n",
       "1599999    happi 38th birthday to my boo of alll time tup...\n",
       "1600000                                 happi charitytuesday\n",
       "Name: 1, Length: 1596865, dtype: object"
      ]
     },
     "execution_count": 11,
     "metadata": {},
     "output_type": "execute_result"
    }
   ],
   "source": [
    "# Retrieve column 1 and convert it to a list of token lists\n",
    "token_lists = df[1]\n",
    "\n",
    "token_lists"
   ]
  },
  {
   "cell_type": "code",
   "execution_count": 12,
   "id": "f1fc49af",
   "metadata": {},
   "outputs": [],
   "source": [
    "# Perform TF-IDF encoding and create vectors of size 50\n",
    "vectorizer = TfidfVectorizer(max_features=50)\n",
    "vectorizer.fit(token_lists)\n",
    "\n",
    "# Save the fitted vectorizer using pickle for future use\n",
    "with open('vectorizer.pkl', 'wb') as file:\n",
    "    pickle.dump(vectorizer, file)\n"
   ]
  },
  {
   "cell_type": "code",
   "execution_count": 13,
   "id": "200cb55b",
   "metadata": {},
   "outputs": [],
   "source": [
    "# Transform the tokens to vectors\n",
    "tfidf_vectors = vectorizer.transform(token_lists).toarray()\n",
    "\n",
    "# Create a new DataFrame with the vectors and target\n",
    "new_df = pd.DataFrame(tfidf_vectors)\n",
    "new_df.insert(0, \"target\", df[0])\n",
    "\n",
    "# Save the new DataFrame to a new CSV file\n",
    "new_df.to_csv('Tweet_Data\\\\vectors_vs_tokens.csv', index=False)"
   ]
  },
  {
   "cell_type": "code",
   "execution_count": 14,
   "id": "3b90e401",
   "metadata": {},
   "outputs": [
    {
     "data": {
      "text/html": [
       "<div>\n",
       "<style scoped>\n",
       "    .dataframe tbody tr th:only-of-type {\n",
       "        vertical-align: middle;\n",
       "    }\n",
       "\n",
       "    .dataframe tbody tr th {\n",
       "        vertical-align: top;\n",
       "    }\n",
       "\n",
       "    .dataframe thead th {\n",
       "        text-align: right;\n",
       "    }\n",
       "</style>\n",
       "<table border=\"1\" class=\"dataframe\">\n",
       "  <thead>\n",
       "    <tr style=\"text-align: right;\">\n",
       "      <th></th>\n",
       "      <th>target</th>\n",
       "      <th>0</th>\n",
       "      <th>1</th>\n",
       "      <th>2</th>\n",
       "      <th>3</th>\n",
       "      <th>4</th>\n",
       "      <th>5</th>\n",
       "      <th>6</th>\n",
       "      <th>7</th>\n",
       "      <th>8</th>\n",
       "      <th>...</th>\n",
       "      <th>40</th>\n",
       "      <th>41</th>\n",
       "      <th>42</th>\n",
       "      <th>43</th>\n",
       "      <th>44</th>\n",
       "      <th>45</th>\n",
       "      <th>46</th>\n",
       "      <th>47</th>\n",
       "      <th>48</th>\n",
       "      <th>49</th>\n",
       "    </tr>\n",
       "  </thead>\n",
       "  <tbody>\n",
       "    <tr>\n",
       "      <th>0</th>\n",
       "      <td>0.0</td>\n",
       "      <td>0.0</td>\n",
       "      <td>0.000000</td>\n",
       "      <td>0.000000</td>\n",
       "      <td>0.0</td>\n",
       "      <td>0.0</td>\n",
       "      <td>0.0</td>\n",
       "      <td>0.0</td>\n",
       "      <td>0.000000</td>\n",
       "      <td>0.000000</td>\n",
       "      <td>...</td>\n",
       "      <td>0.000000</td>\n",
       "      <td>0.0</td>\n",
       "      <td>0.000000</td>\n",
       "      <td>0.0</td>\n",
       "      <td>0.0</td>\n",
       "      <td>0.0</td>\n",
       "      <td>0.0</td>\n",
       "      <td>0.0</td>\n",
       "      <td>0.000000</td>\n",
       "      <td>0.000000</td>\n",
       "    </tr>\n",
       "    <tr>\n",
       "      <th>1</th>\n",
       "      <td>0.0</td>\n",
       "      <td>0.0</td>\n",
       "      <td>0.000000</td>\n",
       "      <td>0.000000</td>\n",
       "      <td>0.0</td>\n",
       "      <td>0.0</td>\n",
       "      <td>0.0</td>\n",
       "      <td>0.0</td>\n",
       "      <td>0.000000</td>\n",
       "      <td>0.400474</td>\n",
       "      <td>...</td>\n",
       "      <td>0.000000</td>\n",
       "      <td>0.0</td>\n",
       "      <td>0.000000</td>\n",
       "      <td>0.0</td>\n",
       "      <td>0.0</td>\n",
       "      <td>0.0</td>\n",
       "      <td>0.0</td>\n",
       "      <td>0.0</td>\n",
       "      <td>0.311545</td>\n",
       "      <td>0.000000</td>\n",
       "    </tr>\n",
       "    <tr>\n",
       "      <th>2</th>\n",
       "      <td>0.0</td>\n",
       "      <td>0.0</td>\n",
       "      <td>0.331252</td>\n",
       "      <td>0.000000</td>\n",
       "      <td>0.0</td>\n",
       "      <td>0.0</td>\n",
       "      <td>0.0</td>\n",
       "      <td>0.0</td>\n",
       "      <td>0.506489</td>\n",
       "      <td>0.000000</td>\n",
       "      <td>...</td>\n",
       "      <td>0.499945</td>\n",
       "      <td>0.0</td>\n",
       "      <td>0.000000</td>\n",
       "      <td>0.0</td>\n",
       "      <td>0.0</td>\n",
       "      <td>0.0</td>\n",
       "      <td>0.0</td>\n",
       "      <td>0.0</td>\n",
       "      <td>0.000000</td>\n",
       "      <td>0.000000</td>\n",
       "    </tr>\n",
       "    <tr>\n",
       "      <th>3</th>\n",
       "      <td>0.0</td>\n",
       "      <td>0.0</td>\n",
       "      <td>0.000000</td>\n",
       "      <td>0.000000</td>\n",
       "      <td>0.0</td>\n",
       "      <td>0.0</td>\n",
       "      <td>0.0</td>\n",
       "      <td>0.0</td>\n",
       "      <td>0.000000</td>\n",
       "      <td>0.000000</td>\n",
       "      <td>...</td>\n",
       "      <td>0.000000</td>\n",
       "      <td>0.0</td>\n",
       "      <td>0.000000</td>\n",
       "      <td>0.0</td>\n",
       "      <td>0.0</td>\n",
       "      <td>0.0</td>\n",
       "      <td>0.0</td>\n",
       "      <td>0.0</td>\n",
       "      <td>0.000000</td>\n",
       "      <td>0.000000</td>\n",
       "    </tr>\n",
       "    <tr>\n",
       "      <th>4</th>\n",
       "      <td>0.0</td>\n",
       "      <td>0.0</td>\n",
       "      <td>0.395538</td>\n",
       "      <td>0.000000</td>\n",
       "      <td>0.0</td>\n",
       "      <td>0.0</td>\n",
       "      <td>0.0</td>\n",
       "      <td>0.0</td>\n",
       "      <td>0.000000</td>\n",
       "      <td>0.000000</td>\n",
       "      <td>...</td>\n",
       "      <td>0.000000</td>\n",
       "      <td>0.0</td>\n",
       "      <td>0.000000</td>\n",
       "      <td>0.0</td>\n",
       "      <td>0.0</td>\n",
       "      <td>0.0</td>\n",
       "      <td>0.0</td>\n",
       "      <td>0.0</td>\n",
       "      <td>0.000000</td>\n",
       "      <td>0.000000</td>\n",
       "    </tr>\n",
       "    <tr>\n",
       "      <th>...</th>\n",
       "      <td>...</td>\n",
       "      <td>...</td>\n",
       "      <td>...</td>\n",
       "      <td>...</td>\n",
       "      <td>...</td>\n",
       "      <td>...</td>\n",
       "      <td>...</td>\n",
       "      <td>...</td>\n",
       "      <td>...</td>\n",
       "      <td>...</td>\n",
       "      <td>...</td>\n",
       "      <td>...</td>\n",
       "      <td>...</td>\n",
       "      <td>...</td>\n",
       "      <td>...</td>\n",
       "      <td>...</td>\n",
       "      <td>...</td>\n",
       "      <td>...</td>\n",
       "      <td>...</td>\n",
       "      <td>...</td>\n",
       "      <td>...</td>\n",
       "    </tr>\n",
       "    <tr>\n",
       "      <th>1596860</th>\n",
       "      <td>4.0</td>\n",
       "      <td>0.0</td>\n",
       "      <td>0.000000</td>\n",
       "      <td>0.000000</td>\n",
       "      <td>0.0</td>\n",
       "      <td>0.0</td>\n",
       "      <td>0.0</td>\n",
       "      <td>0.0</td>\n",
       "      <td>0.000000</td>\n",
       "      <td>0.000000</td>\n",
       "      <td>...</td>\n",
       "      <td>0.000000</td>\n",
       "      <td>0.0</td>\n",
       "      <td>0.466747</td>\n",
       "      <td>0.0</td>\n",
       "      <td>0.0</td>\n",
       "      <td>0.0</td>\n",
       "      <td>0.0</td>\n",
       "      <td>0.0</td>\n",
       "      <td>0.000000</td>\n",
       "      <td>0.000000</td>\n",
       "    </tr>\n",
       "    <tr>\n",
       "      <th>1596861</th>\n",
       "      <td>4.0</td>\n",
       "      <td>0.0</td>\n",
       "      <td>0.000000</td>\n",
       "      <td>0.000000</td>\n",
       "      <td>0.0</td>\n",
       "      <td>0.0</td>\n",
       "      <td>0.0</td>\n",
       "      <td>0.0</td>\n",
       "      <td>0.000000</td>\n",
       "      <td>0.000000</td>\n",
       "      <td>...</td>\n",
       "      <td>0.000000</td>\n",
       "      <td>0.0</td>\n",
       "      <td>0.000000</td>\n",
       "      <td>0.0</td>\n",
       "      <td>0.0</td>\n",
       "      <td>0.0</td>\n",
       "      <td>0.0</td>\n",
       "      <td>0.0</td>\n",
       "      <td>0.000000</td>\n",
       "      <td>0.000000</td>\n",
       "    </tr>\n",
       "    <tr>\n",
       "      <th>1596862</th>\n",
       "      <td>4.0</td>\n",
       "      <td>0.0</td>\n",
       "      <td>0.000000</td>\n",
       "      <td>0.427625</td>\n",
       "      <td>0.0</td>\n",
       "      <td>0.0</td>\n",
       "      <td>0.0</td>\n",
       "      <td>0.0</td>\n",
       "      <td>0.000000</td>\n",
       "      <td>0.000000</td>\n",
       "      <td>...</td>\n",
       "      <td>0.000000</td>\n",
       "      <td>0.0</td>\n",
       "      <td>0.000000</td>\n",
       "      <td>0.0</td>\n",
       "      <td>0.0</td>\n",
       "      <td>0.0</td>\n",
       "      <td>0.0</td>\n",
       "      <td>0.0</td>\n",
       "      <td>0.312176</td>\n",
       "      <td>0.420081</td>\n",
       "    </tr>\n",
       "    <tr>\n",
       "      <th>1596863</th>\n",
       "      <td>4.0</td>\n",
       "      <td>0.0</td>\n",
       "      <td>0.000000</td>\n",
       "      <td>0.000000</td>\n",
       "      <td>0.0</td>\n",
       "      <td>0.0</td>\n",
       "      <td>0.0</td>\n",
       "      <td>0.0</td>\n",
       "      <td>0.000000</td>\n",
       "      <td>0.000000</td>\n",
       "      <td>...</td>\n",
       "      <td>0.000000</td>\n",
       "      <td>0.0</td>\n",
       "      <td>0.000000</td>\n",
       "      <td>0.0</td>\n",
       "      <td>0.0</td>\n",
       "      <td>0.0</td>\n",
       "      <td>0.0</td>\n",
       "      <td>0.0</td>\n",
       "      <td>0.000000</td>\n",
       "      <td>0.000000</td>\n",
       "    </tr>\n",
       "    <tr>\n",
       "      <th>1596864</th>\n",
       "      <td>4.0</td>\n",
       "      <td>0.0</td>\n",
       "      <td>0.000000</td>\n",
       "      <td>0.000000</td>\n",
       "      <td>0.0</td>\n",
       "      <td>0.0</td>\n",
       "      <td>0.0</td>\n",
       "      <td>0.0</td>\n",
       "      <td>0.000000</td>\n",
       "      <td>0.000000</td>\n",
       "      <td>...</td>\n",
       "      <td>0.000000</td>\n",
       "      <td>0.0</td>\n",
       "      <td>0.000000</td>\n",
       "      <td>0.0</td>\n",
       "      <td>0.0</td>\n",
       "      <td>0.0</td>\n",
       "      <td>0.0</td>\n",
       "      <td>0.0</td>\n",
       "      <td>0.000000</td>\n",
       "      <td>0.000000</td>\n",
       "    </tr>\n",
       "  </tbody>\n",
       "</table>\n",
       "<p>1596865 rows × 51 columns</p>\n",
       "</div>"
      ],
      "text/plain": [
       "         target    0         1         2    3    4    5    6         7   \n",
       "0           0.0  0.0  0.000000  0.000000  0.0  0.0  0.0  0.0  0.000000  \\\n",
       "1           0.0  0.0  0.000000  0.000000  0.0  0.0  0.0  0.0  0.000000   \n",
       "2           0.0  0.0  0.331252  0.000000  0.0  0.0  0.0  0.0  0.506489   \n",
       "3           0.0  0.0  0.000000  0.000000  0.0  0.0  0.0  0.0  0.000000   \n",
       "4           0.0  0.0  0.395538  0.000000  0.0  0.0  0.0  0.0  0.000000   \n",
       "...         ...  ...       ...       ...  ...  ...  ...  ...       ...   \n",
       "1596860     4.0  0.0  0.000000  0.000000  0.0  0.0  0.0  0.0  0.000000   \n",
       "1596861     4.0  0.0  0.000000  0.000000  0.0  0.0  0.0  0.0  0.000000   \n",
       "1596862     4.0  0.0  0.000000  0.427625  0.0  0.0  0.0  0.0  0.000000   \n",
       "1596863     4.0  0.0  0.000000  0.000000  0.0  0.0  0.0  0.0  0.000000   \n",
       "1596864     4.0  0.0  0.000000  0.000000  0.0  0.0  0.0  0.0  0.000000   \n",
       "\n",
       "                8  ...        40   41        42   43   44   45   46   47   \n",
       "0        0.000000  ...  0.000000  0.0  0.000000  0.0  0.0  0.0  0.0  0.0  \\\n",
       "1        0.400474  ...  0.000000  0.0  0.000000  0.0  0.0  0.0  0.0  0.0   \n",
       "2        0.000000  ...  0.499945  0.0  0.000000  0.0  0.0  0.0  0.0  0.0   \n",
       "3        0.000000  ...  0.000000  0.0  0.000000  0.0  0.0  0.0  0.0  0.0   \n",
       "4        0.000000  ...  0.000000  0.0  0.000000  0.0  0.0  0.0  0.0  0.0   \n",
       "...           ...  ...       ...  ...       ...  ...  ...  ...  ...  ...   \n",
       "1596860  0.000000  ...  0.000000  0.0  0.466747  0.0  0.0  0.0  0.0  0.0   \n",
       "1596861  0.000000  ...  0.000000  0.0  0.000000  0.0  0.0  0.0  0.0  0.0   \n",
       "1596862  0.000000  ...  0.000000  0.0  0.000000  0.0  0.0  0.0  0.0  0.0   \n",
       "1596863  0.000000  ...  0.000000  0.0  0.000000  0.0  0.0  0.0  0.0  0.0   \n",
       "1596864  0.000000  ...  0.000000  0.0  0.000000  0.0  0.0  0.0  0.0  0.0   \n",
       "\n",
       "               48        49  \n",
       "0        0.000000  0.000000  \n",
       "1        0.311545  0.000000  \n",
       "2        0.000000  0.000000  \n",
       "3        0.000000  0.000000  \n",
       "4        0.000000  0.000000  \n",
       "...           ...       ...  \n",
       "1596860  0.000000  0.000000  \n",
       "1596861  0.000000  0.000000  \n",
       "1596862  0.312176  0.420081  \n",
       "1596863  0.000000  0.000000  \n",
       "1596864  0.000000  0.000000  \n",
       "\n",
       "[1596865 rows x 51 columns]"
      ]
     },
     "execution_count": 14,
     "metadata": {},
     "output_type": "execute_result"
    }
   ],
   "source": [
    "# Having a look at vectors dataframe\n",
    "new_df"
   ]
  },
  {
   "cell_type": "code",
   "execution_count": 15,
   "id": "928e6858",
   "metadata": {},
   "outputs": [],
   "source": [
    "# Deletes dataframe objects to free up memory\n",
    "del df\n",
    "del new_df"
   ]
  },
  {
   "cell_type": "code",
   "execution_count": 16,
   "id": "6badd395",
   "metadata": {},
   "outputs": [],
   "source": [
    "# Reads the vectors datafile\n",
    "df = pd.read_csv('Tweet_Data\\\\vectors_vs_tokens.csv')"
   ]
  },
  {
   "cell_type": "code",
   "execution_count": 17,
   "id": "0047608b",
   "metadata": {},
   "outputs": [
    {
     "data": {
      "text/html": [
       "<div>\n",
       "<style scoped>\n",
       "    .dataframe tbody tr th:only-of-type {\n",
       "        vertical-align: middle;\n",
       "    }\n",
       "\n",
       "    .dataframe tbody tr th {\n",
       "        vertical-align: top;\n",
       "    }\n",
       "\n",
       "    .dataframe thead th {\n",
       "        text-align: right;\n",
       "    }\n",
       "</style>\n",
       "<table border=\"1\" class=\"dataframe\">\n",
       "  <thead>\n",
       "    <tr style=\"text-align: right;\">\n",
       "      <th></th>\n",
       "      <th>target</th>\n",
       "      <th>0</th>\n",
       "      <th>1</th>\n",
       "      <th>2</th>\n",
       "      <th>3</th>\n",
       "      <th>4</th>\n",
       "      <th>5</th>\n",
       "      <th>6</th>\n",
       "      <th>7</th>\n",
       "      <th>8</th>\n",
       "      <th>...</th>\n",
       "      <th>40</th>\n",
       "      <th>41</th>\n",
       "      <th>42</th>\n",
       "      <th>43</th>\n",
       "      <th>44</th>\n",
       "      <th>45</th>\n",
       "      <th>46</th>\n",
       "      <th>47</th>\n",
       "      <th>48</th>\n",
       "      <th>49</th>\n",
       "    </tr>\n",
       "  </thead>\n",
       "  <tbody>\n",
       "    <tr>\n",
       "      <th>0</th>\n",
       "      <td>0.0</td>\n",
       "      <td>0.0</td>\n",
       "      <td>0.000000</td>\n",
       "      <td>0.000000</td>\n",
       "      <td>0.0</td>\n",
       "      <td>0.0</td>\n",
       "      <td>0.0</td>\n",
       "      <td>0.0</td>\n",
       "      <td>0.000000</td>\n",
       "      <td>0.000000</td>\n",
       "      <td>...</td>\n",
       "      <td>0.000000</td>\n",
       "      <td>0.0</td>\n",
       "      <td>0.000000</td>\n",
       "      <td>0.0</td>\n",
       "      <td>0.0</td>\n",
       "      <td>0.0</td>\n",
       "      <td>0.0</td>\n",
       "      <td>0.0</td>\n",
       "      <td>0.000000</td>\n",
       "      <td>0.000000</td>\n",
       "    </tr>\n",
       "    <tr>\n",
       "      <th>1</th>\n",
       "      <td>0.0</td>\n",
       "      <td>0.0</td>\n",
       "      <td>0.000000</td>\n",
       "      <td>0.000000</td>\n",
       "      <td>0.0</td>\n",
       "      <td>0.0</td>\n",
       "      <td>0.0</td>\n",
       "      <td>0.0</td>\n",
       "      <td>0.000000</td>\n",
       "      <td>0.400474</td>\n",
       "      <td>...</td>\n",
       "      <td>0.000000</td>\n",
       "      <td>0.0</td>\n",
       "      <td>0.000000</td>\n",
       "      <td>0.0</td>\n",
       "      <td>0.0</td>\n",
       "      <td>0.0</td>\n",
       "      <td>0.0</td>\n",
       "      <td>0.0</td>\n",
       "      <td>0.311545</td>\n",
       "      <td>0.000000</td>\n",
       "    </tr>\n",
       "    <tr>\n",
       "      <th>2</th>\n",
       "      <td>0.0</td>\n",
       "      <td>0.0</td>\n",
       "      <td>0.331252</td>\n",
       "      <td>0.000000</td>\n",
       "      <td>0.0</td>\n",
       "      <td>0.0</td>\n",
       "      <td>0.0</td>\n",
       "      <td>0.0</td>\n",
       "      <td>0.506489</td>\n",
       "      <td>0.000000</td>\n",
       "      <td>...</td>\n",
       "      <td>0.499945</td>\n",
       "      <td>0.0</td>\n",
       "      <td>0.000000</td>\n",
       "      <td>0.0</td>\n",
       "      <td>0.0</td>\n",
       "      <td>0.0</td>\n",
       "      <td>0.0</td>\n",
       "      <td>0.0</td>\n",
       "      <td>0.000000</td>\n",
       "      <td>0.000000</td>\n",
       "    </tr>\n",
       "    <tr>\n",
       "      <th>3</th>\n",
       "      <td>0.0</td>\n",
       "      <td>0.0</td>\n",
       "      <td>0.000000</td>\n",
       "      <td>0.000000</td>\n",
       "      <td>0.0</td>\n",
       "      <td>0.0</td>\n",
       "      <td>0.0</td>\n",
       "      <td>0.0</td>\n",
       "      <td>0.000000</td>\n",
       "      <td>0.000000</td>\n",
       "      <td>...</td>\n",
       "      <td>0.000000</td>\n",
       "      <td>0.0</td>\n",
       "      <td>0.000000</td>\n",
       "      <td>0.0</td>\n",
       "      <td>0.0</td>\n",
       "      <td>0.0</td>\n",
       "      <td>0.0</td>\n",
       "      <td>0.0</td>\n",
       "      <td>0.000000</td>\n",
       "      <td>0.000000</td>\n",
       "    </tr>\n",
       "    <tr>\n",
       "      <th>4</th>\n",
       "      <td>0.0</td>\n",
       "      <td>0.0</td>\n",
       "      <td>0.395538</td>\n",
       "      <td>0.000000</td>\n",
       "      <td>0.0</td>\n",
       "      <td>0.0</td>\n",
       "      <td>0.0</td>\n",
       "      <td>0.0</td>\n",
       "      <td>0.000000</td>\n",
       "      <td>0.000000</td>\n",
       "      <td>...</td>\n",
       "      <td>0.000000</td>\n",
       "      <td>0.0</td>\n",
       "      <td>0.000000</td>\n",
       "      <td>0.0</td>\n",
       "      <td>0.0</td>\n",
       "      <td>0.0</td>\n",
       "      <td>0.0</td>\n",
       "      <td>0.0</td>\n",
       "      <td>0.000000</td>\n",
       "      <td>0.000000</td>\n",
       "    </tr>\n",
       "    <tr>\n",
       "      <th>...</th>\n",
       "      <td>...</td>\n",
       "      <td>...</td>\n",
       "      <td>...</td>\n",
       "      <td>...</td>\n",
       "      <td>...</td>\n",
       "      <td>...</td>\n",
       "      <td>...</td>\n",
       "      <td>...</td>\n",
       "      <td>...</td>\n",
       "      <td>...</td>\n",
       "      <td>...</td>\n",
       "      <td>...</td>\n",
       "      <td>...</td>\n",
       "      <td>...</td>\n",
       "      <td>...</td>\n",
       "      <td>...</td>\n",
       "      <td>...</td>\n",
       "      <td>...</td>\n",
       "      <td>...</td>\n",
       "      <td>...</td>\n",
       "      <td>...</td>\n",
       "    </tr>\n",
       "    <tr>\n",
       "      <th>1596860</th>\n",
       "      <td>4.0</td>\n",
       "      <td>0.0</td>\n",
       "      <td>0.000000</td>\n",
       "      <td>0.000000</td>\n",
       "      <td>0.0</td>\n",
       "      <td>0.0</td>\n",
       "      <td>0.0</td>\n",
       "      <td>0.0</td>\n",
       "      <td>0.000000</td>\n",
       "      <td>0.000000</td>\n",
       "      <td>...</td>\n",
       "      <td>0.000000</td>\n",
       "      <td>0.0</td>\n",
       "      <td>0.466747</td>\n",
       "      <td>0.0</td>\n",
       "      <td>0.0</td>\n",
       "      <td>0.0</td>\n",
       "      <td>0.0</td>\n",
       "      <td>0.0</td>\n",
       "      <td>0.000000</td>\n",
       "      <td>0.000000</td>\n",
       "    </tr>\n",
       "    <tr>\n",
       "      <th>1596861</th>\n",
       "      <td>4.0</td>\n",
       "      <td>0.0</td>\n",
       "      <td>0.000000</td>\n",
       "      <td>0.000000</td>\n",
       "      <td>0.0</td>\n",
       "      <td>0.0</td>\n",
       "      <td>0.0</td>\n",
       "      <td>0.0</td>\n",
       "      <td>0.000000</td>\n",
       "      <td>0.000000</td>\n",
       "      <td>...</td>\n",
       "      <td>0.000000</td>\n",
       "      <td>0.0</td>\n",
       "      <td>0.000000</td>\n",
       "      <td>0.0</td>\n",
       "      <td>0.0</td>\n",
       "      <td>0.0</td>\n",
       "      <td>0.0</td>\n",
       "      <td>0.0</td>\n",
       "      <td>0.000000</td>\n",
       "      <td>0.000000</td>\n",
       "    </tr>\n",
       "    <tr>\n",
       "      <th>1596862</th>\n",
       "      <td>4.0</td>\n",
       "      <td>0.0</td>\n",
       "      <td>0.000000</td>\n",
       "      <td>0.427625</td>\n",
       "      <td>0.0</td>\n",
       "      <td>0.0</td>\n",
       "      <td>0.0</td>\n",
       "      <td>0.0</td>\n",
       "      <td>0.000000</td>\n",
       "      <td>0.000000</td>\n",
       "      <td>...</td>\n",
       "      <td>0.000000</td>\n",
       "      <td>0.0</td>\n",
       "      <td>0.000000</td>\n",
       "      <td>0.0</td>\n",
       "      <td>0.0</td>\n",
       "      <td>0.0</td>\n",
       "      <td>0.0</td>\n",
       "      <td>0.0</td>\n",
       "      <td>0.312176</td>\n",
       "      <td>0.420081</td>\n",
       "    </tr>\n",
       "    <tr>\n",
       "      <th>1596863</th>\n",
       "      <td>4.0</td>\n",
       "      <td>0.0</td>\n",
       "      <td>0.000000</td>\n",
       "      <td>0.000000</td>\n",
       "      <td>0.0</td>\n",
       "      <td>0.0</td>\n",
       "      <td>0.0</td>\n",
       "      <td>0.0</td>\n",
       "      <td>0.000000</td>\n",
       "      <td>0.000000</td>\n",
       "      <td>...</td>\n",
       "      <td>0.000000</td>\n",
       "      <td>0.0</td>\n",
       "      <td>0.000000</td>\n",
       "      <td>0.0</td>\n",
       "      <td>0.0</td>\n",
       "      <td>0.0</td>\n",
       "      <td>0.0</td>\n",
       "      <td>0.0</td>\n",
       "      <td>0.000000</td>\n",
       "      <td>0.000000</td>\n",
       "    </tr>\n",
       "    <tr>\n",
       "      <th>1596864</th>\n",
       "      <td>4.0</td>\n",
       "      <td>0.0</td>\n",
       "      <td>0.000000</td>\n",
       "      <td>0.000000</td>\n",
       "      <td>0.0</td>\n",
       "      <td>0.0</td>\n",
       "      <td>0.0</td>\n",
       "      <td>0.0</td>\n",
       "      <td>0.000000</td>\n",
       "      <td>0.000000</td>\n",
       "      <td>...</td>\n",
       "      <td>0.000000</td>\n",
       "      <td>0.0</td>\n",
       "      <td>0.000000</td>\n",
       "      <td>0.0</td>\n",
       "      <td>0.0</td>\n",
       "      <td>0.0</td>\n",
       "      <td>0.0</td>\n",
       "      <td>0.0</td>\n",
       "      <td>0.000000</td>\n",
       "      <td>0.000000</td>\n",
       "    </tr>\n",
       "  </tbody>\n",
       "</table>\n",
       "<p>1596865 rows × 51 columns</p>\n",
       "</div>"
      ],
      "text/plain": [
       "         target    0         1         2    3    4    5    6         7   \n",
       "0           0.0  0.0  0.000000  0.000000  0.0  0.0  0.0  0.0  0.000000  \\\n",
       "1           0.0  0.0  0.000000  0.000000  0.0  0.0  0.0  0.0  0.000000   \n",
       "2           0.0  0.0  0.331252  0.000000  0.0  0.0  0.0  0.0  0.506489   \n",
       "3           0.0  0.0  0.000000  0.000000  0.0  0.0  0.0  0.0  0.000000   \n",
       "4           0.0  0.0  0.395538  0.000000  0.0  0.0  0.0  0.0  0.000000   \n",
       "...         ...  ...       ...       ...  ...  ...  ...  ...       ...   \n",
       "1596860     4.0  0.0  0.000000  0.000000  0.0  0.0  0.0  0.0  0.000000   \n",
       "1596861     4.0  0.0  0.000000  0.000000  0.0  0.0  0.0  0.0  0.000000   \n",
       "1596862     4.0  0.0  0.000000  0.427625  0.0  0.0  0.0  0.0  0.000000   \n",
       "1596863     4.0  0.0  0.000000  0.000000  0.0  0.0  0.0  0.0  0.000000   \n",
       "1596864     4.0  0.0  0.000000  0.000000  0.0  0.0  0.0  0.0  0.000000   \n",
       "\n",
       "                8  ...        40   41        42   43   44   45   46   47   \n",
       "0        0.000000  ...  0.000000  0.0  0.000000  0.0  0.0  0.0  0.0  0.0  \\\n",
       "1        0.400474  ...  0.000000  0.0  0.000000  0.0  0.0  0.0  0.0  0.0   \n",
       "2        0.000000  ...  0.499945  0.0  0.000000  0.0  0.0  0.0  0.0  0.0   \n",
       "3        0.000000  ...  0.000000  0.0  0.000000  0.0  0.0  0.0  0.0  0.0   \n",
       "4        0.000000  ...  0.000000  0.0  0.000000  0.0  0.0  0.0  0.0  0.0   \n",
       "...           ...  ...       ...  ...       ...  ...  ...  ...  ...  ...   \n",
       "1596860  0.000000  ...  0.000000  0.0  0.466747  0.0  0.0  0.0  0.0  0.0   \n",
       "1596861  0.000000  ...  0.000000  0.0  0.000000  0.0  0.0  0.0  0.0  0.0   \n",
       "1596862  0.000000  ...  0.000000  0.0  0.000000  0.0  0.0  0.0  0.0  0.0   \n",
       "1596863  0.000000  ...  0.000000  0.0  0.000000  0.0  0.0  0.0  0.0  0.0   \n",
       "1596864  0.000000  ...  0.000000  0.0  0.000000  0.0  0.0  0.0  0.0  0.0   \n",
       "\n",
       "               48        49  \n",
       "0        0.000000  0.000000  \n",
       "1        0.311545  0.000000  \n",
       "2        0.000000  0.000000  \n",
       "3        0.000000  0.000000  \n",
       "4        0.000000  0.000000  \n",
       "...           ...       ...  \n",
       "1596860  0.000000  0.000000  \n",
       "1596861  0.000000  0.000000  \n",
       "1596862  0.312176  0.420081  \n",
       "1596863  0.000000  0.000000  \n",
       "1596864  0.000000  0.000000  \n",
       "\n",
       "[1596865 rows x 51 columns]"
      ]
     },
     "execution_count": 17,
     "metadata": {},
     "output_type": "execute_result"
    }
   ],
   "source": [
    "# Having a look at vectors dataframe\n",
    "df"
   ]
  },
  {
   "cell_type": "code",
   "execution_count": 18,
   "id": "434b1ba9",
   "metadata": {},
   "outputs": [
    {
     "data": {
      "text/plain": [
       "Index(['target', '0', '1', '2', '3', '4', '5', '6', '7', '8', '9', '10', '11',\n",
       "       '12', '13', '14', '15', '16', '17', '18', '19', '20', '21', '22', '23',\n",
       "       '24', '25', '26', '27', '28', '29', '30', '31', '32', '33', '34', '35',\n",
       "       '36', '37', '38', '39', '40', '41', '42', '43', '44', '45', '46', '47',\n",
       "       '48', '49'],\n",
       "      dtype='object')"
      ]
     },
     "execution_count": 18,
     "metadata": {},
     "output_type": "execute_result"
    }
   ],
   "source": [
    "# Checking columns\n",
    "df.columns"
   ]
  },
  {
   "cell_type": "code",
   "execution_count": 19,
   "id": "6f780449",
   "metadata": {},
   "outputs": [],
   "source": [
    "# Extract the 'target' column as y_data in int type\n",
    "y_data = df['target'].values.astype(int)\n",
    "\n",
    "# Extract the remaining 50 columns as x_data\n",
    "x_data = df.drop('target', axis=1).values\n"
   ]
  },
  {
   "cell_type": "code",
   "execution_count": 20,
   "id": "8bba5dcc",
   "metadata": {},
   "outputs": [
    {
     "data": {
      "text/plain": [
       "array([0, 0, 0, ..., 4, 4, 4])"
      ]
     },
     "execution_count": 20,
     "metadata": {},
     "output_type": "execute_result"
    }
   ],
   "source": [
    "y_data"
   ]
  },
  {
   "cell_type": "code",
   "execution_count": 21,
   "id": "f99e71e5",
   "metadata": {},
   "outputs": [],
   "source": [
    "# There were some garbage values in y_data when converting every value to int. Hence they were removed and marked as 2(neutral)\n",
    "for i in range(len(y_data)):\n",
    "    if y_data[i] not in [0, 2, 4]:\n",
    "        y_data[i] = 2"
   ]
  },
  {
   "cell_type": "code",
   "execution_count": 22,
   "id": "ea9d9a3e",
   "metadata": {},
   "outputs": [
    {
     "data": {
      "text/plain": [
       "(1596865,)"
      ]
     },
     "execution_count": 22,
     "metadata": {},
     "output_type": "execute_result"
    }
   ],
   "source": [
    "y_data.shape"
   ]
  },
  {
   "cell_type": "code",
   "execution_count": 23,
   "id": "92ab5609",
   "metadata": {},
   "outputs": [
    {
     "data": {
      "text/plain": [
       "(1596865, 50)"
      ]
     },
     "execution_count": 23,
     "metadata": {},
     "output_type": "execute_result"
    }
   ],
   "source": [
    "x_data.shape"
   ]
  },
  {
   "cell_type": "code",
   "execution_count": 24,
   "id": "b0117212",
   "metadata": {},
   "outputs": [
    {
     "data": {
      "text/plain": [
       "array([[0.        , 0.        , 0.        , ..., 0.        , 0.        ,\n",
       "        0.        ],\n",
       "       [0.        , 0.        , 0.        , ..., 0.        , 0.31154506,\n",
       "        0.        ],\n",
       "       [0.        , 0.33125169, 0.        , ..., 0.        , 0.        ,\n",
       "        0.        ],\n",
       "       ...,\n",
       "       [0.        , 0.        , 0.42762522, ..., 0.        , 0.31217624,\n",
       "        0.42008136],\n",
       "       [0.        , 0.        , 0.        , ..., 0.        , 0.        ,\n",
       "        0.        ],\n",
       "       [0.        , 0.        , 0.        , ..., 0.        , 0.        ,\n",
       "        0.        ]])"
      ]
     },
     "execution_count": 24,
     "metadata": {},
     "output_type": "execute_result"
    }
   ],
   "source": [
    "x_data"
   ]
  },
  {
   "cell_type": "code",
   "execution_count": 25,
   "id": "5b03d0db",
   "metadata": {},
   "outputs": [],
   "source": [
    "# Split the data into training and validation sets\n",
    "x_train, x_val, y_train, y_val = train_test_split(x_data, y_data, test_size=0.2, random_state=0)\n"
   ]
  },
  {
   "cell_type": "code",
   "execution_count": 26,
   "id": "fb1fd01d",
   "metadata": {},
   "outputs": [
    {
     "data": {
      "text/plain": [
       "(1277492, 50)"
      ]
     },
     "execution_count": 26,
     "metadata": {},
     "output_type": "execute_result"
    }
   ],
   "source": [
    "x_train.shape"
   ]
  },
  {
   "cell_type": "code",
   "execution_count": 27,
   "id": "345dc56a",
   "metadata": {},
   "outputs": [
    {
     "data": {
      "text/plain": [
       "(1277492,)"
      ]
     },
     "execution_count": 27,
     "metadata": {},
     "output_type": "execute_result"
    }
   ],
   "source": [
    "y_train.shape"
   ]
  },
  {
   "cell_type": "code",
   "execution_count": 28,
   "id": "a5979710",
   "metadata": {},
   "outputs": [],
   "source": [
    "# Defined the model used. \n",
    "model = Sequential()\n",
    "model.add(BatchNormalization()) # Normalise the input vectors\n",
    "model.add(Dense(256, activation='relu',input_shape = [50])) # Layer with 256 Neurons\n",
    "model.add(Dropout(0.3)) # Leaves out 30 % data to prevent overfitting\n",
    "model.add(BatchNormalization()) # Normalize the input vectors\n",
    "model.add(Dense(256,activation='relu')) # Layer with 256 neurons\n",
    "model.add(Dense(5, activation = 'softmax')) # Gives output in form of probability of being a value between 0 to 4\n",
    "\n",
    "# Compile the model\n",
    "model.compile(optimizer = 'adam',\n",
    "              loss = 'sparse_categorical_crossentropy',\n",
    "              metrics=['accuracy'])\n",
    "\n"
   ]
  },
  {
   "cell_type": "code",
   "execution_count": 29,
   "id": "2acc20c7",
   "metadata": {},
   "outputs": [
    {
     "name": "stdout",
     "output_type": "stream",
     "text": [
      "Epoch 1/10\n",
      "1278/1278 [==============================] - 14s 10ms/step - loss: 0.6456 - accuracy: 0.6401\n",
      "Epoch 2/10\n",
      "1278/1278 [==============================] - 12s 10ms/step - loss: 0.6282 - accuracy: 0.6515\n",
      "Epoch 3/10\n",
      "1278/1278 [==============================] - 12s 10ms/step - loss: 0.6264 - accuracy: 0.6532\n",
      "Epoch 4/10\n",
      "1278/1278 [==============================] - 14s 11ms/step - loss: 0.6253 - accuracy: 0.6540\n",
      "Epoch 5/10\n",
      "1278/1278 [==============================] - 14s 11ms/step - loss: 0.6244 - accuracy: 0.6548\n",
      "Epoch 6/10\n",
      "1278/1278 [==============================] - 14s 11ms/step - loss: 0.6238 - accuracy: 0.6555\n",
      "Epoch 7/10\n",
      "1278/1278 [==============================] - 14s 11ms/step - loss: 0.6230 - accuracy: 0.6563\n",
      "Epoch 8/10\n",
      "1278/1278 [==============================] - 14s 11ms/step - loss: 0.6225 - accuracy: 0.6564\n",
      "Epoch 9/10\n",
      "1278/1278 [==============================] - 14s 11ms/step - loss: 0.6221 - accuracy: 0.6569\n",
      "Epoch 10/10\n",
      "1278/1278 [==============================] - 14s 11ms/step - loss: 0.6216 - accuracy: 0.6573\n"
     ]
    }
   ],
   "source": [
    "# Train the model\n",
    "model.fit(x_train, y_train, batch_size=1000, epochs=10)\n",
    "\n",
    "# Saves the model for future use\n",
    "model.save('trained_model.h5')"
   ]
  },
  {
   "cell_type": "code",
   "execution_count": 30,
   "id": "cf3b740c",
   "metadata": {},
   "outputs": [],
   "source": [
    "# Loads the saved model\n",
    "model = keras.models.load_model('trained_model.h5')"
   ]
  },
  {
   "cell_type": "code",
   "execution_count": 31,
   "id": "420c9283",
   "metadata": {},
   "outputs": [
    {
     "name": "stdout",
     "output_type": "stream",
     "text": [
      "9981/9981 [==============================] - 9s 935us/step\n"
     ]
    }
   ],
   "source": [
    "# Make predictions on validation data\n",
    "y_pred = model.predict(x_val)"
   ]
  },
  {
   "cell_type": "code",
   "execution_count": 32,
   "id": "8646c6ae",
   "metadata": {},
   "outputs": [
    {
     "data": {
      "text/plain": [
       "array([4, 4, 0, ..., 4, 0, 4], dtype=int64)"
      ]
     },
     "execution_count": 32,
     "metadata": {},
     "output_type": "execute_result"
    }
   ],
   "source": [
    "# Convert probabilities to predicted labels\n",
    "y_pred_labels = np.argmax(y_pred, axis=1)\n",
    "\n",
    "# Print the resulting array\n",
    "y_pred_labels"
   ]
  },
  {
   "cell_type": "code",
   "execution_count": 33,
   "id": "fc4cd32d",
   "metadata": {},
   "outputs": [
    {
     "name": "stdout",
     "output_type": "stream",
     "text": [
      "Accuracy: 0.6571563657541495\n",
      "Precision: 0.6559409706992578\n",
      "Recall: 0.6571563657541495\n",
      "F1-score: 0.656521095440594\n"
     ]
    },
    {
     "name": "stderr",
     "output_type": "stream",
     "text": [
      "C:\\Users\\Rudrransh\\AppData\\Roaming\\Python\\Python311\\site-packages\\sklearn\\metrics\\_classification.py:1344: UndefinedMetricWarning: Precision is ill-defined and being set to 0.0 in labels with no predicted samples. Use `zero_division` parameter to control this behavior.\n",
      "  _warn_prf(average, modifier, msg_start, len(result))\n"
     ]
    }
   ],
   "source": [
    "# Calculate accuracy\n",
    "accuracy = accuracy_score(y_val, y_pred_labels)\n",
    "\n",
    "# Calculate precision\n",
    "precision = precision_score(y_val, y_pred_labels, average='weighted')\n",
    "\n",
    "# Calculate recall\n",
    "recall = recall_score(y_val, y_pred_labels, average='weighted')\n",
    "\n",
    "# Calculate F1-score\n",
    "f1 = f1_score(y_val, y_pred_labels, average='weighted')\n",
    "\n",
    "# Print the evaluation metrics\n",
    "print(\"Accuracy:\", accuracy)\n",
    "print(\"Precision:\", precision)\n",
    "print(\"Recall:\", recall)\n",
    "print(\"F1-score:\", f1)"
   ]
  },
  {
   "cell_type": "code",
   "execution_count": 34,
   "id": "2fc250be",
   "metadata": {},
   "outputs": [
    {
     "data": {
      "text/plain": [
       "'i had a bad day at colleg today'"
      ]
     },
     "execution_count": 34,
     "metadata": {},
     "output_type": "execute_result"
    }
   ],
   "source": [
    "# Testing with a random input\n",
    "input_text = 'I had a bad day at college today.'\n",
    "# Preprocess the input text\n",
    "input_tokens = preprocess_text(input_text)\n",
    "# Display tokens\n",
    "input_tokens"
   ]
  },
  {
   "cell_type": "code",
   "execution_count": 35,
   "id": "2a80129d",
   "metadata": {},
   "outputs": [
    {
     "data": {
      "text/plain": [
       "array([[0.        , 0.        , 0.        , 0.54776373, 0.        ,\n",
       "        0.        , 0.        , 0.        , 0.56198932, 0.        ,\n",
       "        0.        , 0.        , 0.        , 0.        , 0.        ,\n",
       "        0.        , 0.        , 0.        , 0.        , 0.        ,\n",
       "        0.        , 0.        , 0.        , 0.        , 0.        ,\n",
       "        0.        , 0.        , 0.        , 0.        , 0.        ,\n",
       "        0.        , 0.        , 0.        , 0.        , 0.        ,\n",
       "        0.        , 0.        , 0.        , 0.        , 0.        ,\n",
       "        0.61977649, 0.        , 0.        , 0.        , 0.        ,\n",
       "        0.        , 0.        , 0.        , 0.        , 0.        ]])"
      ]
     },
     "execution_count": 35,
     "metadata": {},
     "output_type": "execute_result"
    }
   ],
   "source": [
    "# Load the saved vectorizer from the file\n",
    "with open('vectorizer.pkl', 'rb') as file:\n",
    "    vectorizer = pickle.load(file)\n",
    "# Transform tokens to vector    \n",
    "input_vector = vectorizer.transform([input_tokens]).toarray()\n",
    "# Display the input vector\n",
    "input_vector"
   ]
  },
  {
   "cell_type": "code",
   "execution_count": 36,
   "id": "c465cafc",
   "metadata": {},
   "outputs": [
    {
     "name": "stdout",
     "output_type": "stream",
     "text": [
      "1/1 [==============================] - 0s 69ms/step\n"
     ]
    },
    {
     "data": {
      "text/plain": [
       "array([4], dtype=int64)"
      ]
     },
     "execution_count": 36,
     "metadata": {},
     "output_type": "execute_result"
    }
   ],
   "source": [
    "# Makes prediction on the input vector\n",
    "output = np.argmax(model.predict([input_vector]), axis=1)\n",
    "# Display output label\n",
    "output"
   ]
  },
  {
   "cell_type": "code",
   "execution_count": null,
   "id": "78780493",
   "metadata": {},
   "outputs": [],
   "source": []
  }
 ],
 "metadata": {
  "kernelspec": {
   "display_name": "tf",
   "language": "python",
   "name": "tf"
  },
  "language_info": {
   "codemirror_mode": {
    "name": "ipython",
    "version": 3
   },
   "file_extension": ".py",
   "mimetype": "text/x-python",
   "name": "python",
   "nbconvert_exporter": "python",
   "pygments_lexer": "ipython3",
   "version": "3.11.3"
  }
 },
 "nbformat": 4,
 "nbformat_minor": 5
}
